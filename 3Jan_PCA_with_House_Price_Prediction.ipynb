{
 "cells": [
  {
   "cell_type": "code",
   "execution_count": 90,
   "id": "00294767",
   "metadata": {},
   "outputs": [],
   "source": [
    "import pandas as pd\n",
    "import numpy as np\n",
    "import matplotlib.pyplot as plt\n",
    "import seaborn as sns"
   ]
  },
  {
   "cell_type": "markdown",
   "id": "e53fc360",
   "metadata": {},
   "source": [
    "#### PCA - Used to reduce dimensions - Unsupervised learning\n",
    "<pre>\n",
    "1) Standardize the dataset.\n",
    "2) Compute Covaraince Matrix from the Standardized dataset.\n",
    "3) Compute Eigen values and eigen vectors from the Covaraince Matrix.\n",
    "Arrange Eigen Vectors in decreasing order of Eigen values.\n",
    "\n",
    "4) Select Feature matrix which is min number of eigen vectors required to generate the principal components.\n",
    "5) Generate Pcincipal Components from the Feature matrix\n",
    "</pre>"
   ]
  },
  {
   "cell_type": "markdown",
   "id": "9b137e17",
   "metadata": {},
   "source": [
    "#### Read the dataset"
   ]
  },
  {
   "cell_type": "code",
   "execution_count": 91,
   "id": "69613d2b",
   "metadata": {},
   "outputs": [
    {
     "data": {
      "text/html": [
       "<div>\n",
       "<style scoped>\n",
       "    .dataframe tbody tr th:only-of-type {\n",
       "        vertical-align: middle;\n",
       "    }\n",
       "\n",
       "    .dataframe tbody tr th {\n",
       "        vertical-align: top;\n",
       "    }\n",
       "\n",
       "    .dataframe thead th {\n",
       "        text-align: right;\n",
       "    }\n",
       "</style>\n",
       "<table border=\"1\" class=\"dataframe\">\n",
       "  <thead>\n",
       "    <tr style=\"text-align: right;\">\n",
       "      <th></th>\n",
       "      <th>Id</th>\n",
       "      <th>MSSubClass</th>\n",
       "      <th>MSZoning</th>\n",
       "      <th>LotFrontage</th>\n",
       "      <th>LotArea</th>\n",
       "      <th>Street</th>\n",
       "      <th>Alley</th>\n",
       "      <th>LotShape</th>\n",
       "      <th>LandContour</th>\n",
       "      <th>Utilities</th>\n",
       "      <th>...</th>\n",
       "      <th>PoolArea</th>\n",
       "      <th>PoolQC</th>\n",
       "      <th>Fence</th>\n",
       "      <th>MiscFeature</th>\n",
       "      <th>MiscVal</th>\n",
       "      <th>MoSold</th>\n",
       "      <th>YrSold</th>\n",
       "      <th>SaleType</th>\n",
       "      <th>SaleCondition</th>\n",
       "      <th>SalePrice</th>\n",
       "    </tr>\n",
       "  </thead>\n",
       "  <tbody>\n",
       "    <tr>\n",
       "      <th>0</th>\n",
       "      <td>1</td>\n",
       "      <td>60</td>\n",
       "      <td>RL</td>\n",
       "      <td>65.0</td>\n",
       "      <td>8450</td>\n",
       "      <td>Pave</td>\n",
       "      <td>NaN</td>\n",
       "      <td>Reg</td>\n",
       "      <td>Lvl</td>\n",
       "      <td>AllPub</td>\n",
       "      <td>...</td>\n",
       "      <td>0</td>\n",
       "      <td>NaN</td>\n",
       "      <td>NaN</td>\n",
       "      <td>NaN</td>\n",
       "      <td>0</td>\n",
       "      <td>2</td>\n",
       "      <td>2008</td>\n",
       "      <td>WD</td>\n",
       "      <td>Normal</td>\n",
       "      <td>208500</td>\n",
       "    </tr>\n",
       "    <tr>\n",
       "      <th>1</th>\n",
       "      <td>2</td>\n",
       "      <td>20</td>\n",
       "      <td>RL</td>\n",
       "      <td>80.0</td>\n",
       "      <td>9600</td>\n",
       "      <td>Pave</td>\n",
       "      <td>NaN</td>\n",
       "      <td>Reg</td>\n",
       "      <td>Lvl</td>\n",
       "      <td>AllPub</td>\n",
       "      <td>...</td>\n",
       "      <td>0</td>\n",
       "      <td>NaN</td>\n",
       "      <td>NaN</td>\n",
       "      <td>NaN</td>\n",
       "      <td>0</td>\n",
       "      <td>5</td>\n",
       "      <td>2007</td>\n",
       "      <td>WD</td>\n",
       "      <td>Normal</td>\n",
       "      <td>181500</td>\n",
       "    </tr>\n",
       "    <tr>\n",
       "      <th>2</th>\n",
       "      <td>3</td>\n",
       "      <td>60</td>\n",
       "      <td>RL</td>\n",
       "      <td>68.0</td>\n",
       "      <td>11250</td>\n",
       "      <td>Pave</td>\n",
       "      <td>NaN</td>\n",
       "      <td>IR1</td>\n",
       "      <td>Lvl</td>\n",
       "      <td>AllPub</td>\n",
       "      <td>...</td>\n",
       "      <td>0</td>\n",
       "      <td>NaN</td>\n",
       "      <td>NaN</td>\n",
       "      <td>NaN</td>\n",
       "      <td>0</td>\n",
       "      <td>9</td>\n",
       "      <td>2008</td>\n",
       "      <td>WD</td>\n",
       "      <td>Normal</td>\n",
       "      <td>223500</td>\n",
       "    </tr>\n",
       "    <tr>\n",
       "      <th>3</th>\n",
       "      <td>4</td>\n",
       "      <td>70</td>\n",
       "      <td>RL</td>\n",
       "      <td>60.0</td>\n",
       "      <td>9550</td>\n",
       "      <td>Pave</td>\n",
       "      <td>NaN</td>\n",
       "      <td>IR1</td>\n",
       "      <td>Lvl</td>\n",
       "      <td>AllPub</td>\n",
       "      <td>...</td>\n",
       "      <td>0</td>\n",
       "      <td>NaN</td>\n",
       "      <td>NaN</td>\n",
       "      <td>NaN</td>\n",
       "      <td>0</td>\n",
       "      <td>2</td>\n",
       "      <td>2006</td>\n",
       "      <td>WD</td>\n",
       "      <td>Abnorml</td>\n",
       "      <td>140000</td>\n",
       "    </tr>\n",
       "    <tr>\n",
       "      <th>4</th>\n",
       "      <td>5</td>\n",
       "      <td>60</td>\n",
       "      <td>RL</td>\n",
       "      <td>84.0</td>\n",
       "      <td>14260</td>\n",
       "      <td>Pave</td>\n",
       "      <td>NaN</td>\n",
       "      <td>IR1</td>\n",
       "      <td>Lvl</td>\n",
       "      <td>AllPub</td>\n",
       "      <td>...</td>\n",
       "      <td>0</td>\n",
       "      <td>NaN</td>\n",
       "      <td>NaN</td>\n",
       "      <td>NaN</td>\n",
       "      <td>0</td>\n",
       "      <td>12</td>\n",
       "      <td>2008</td>\n",
       "      <td>WD</td>\n",
       "      <td>Normal</td>\n",
       "      <td>250000</td>\n",
       "    </tr>\n",
       "  </tbody>\n",
       "</table>\n",
       "<p>5 rows × 81 columns</p>\n",
       "</div>"
      ],
      "text/plain": [
       "   Id  MSSubClass MSZoning  LotFrontage  LotArea Street Alley LotShape  \\\n",
       "0   1          60       RL         65.0     8450   Pave   NaN      Reg   \n",
       "1   2          20       RL         80.0     9600   Pave   NaN      Reg   \n",
       "2   3          60       RL         68.0    11250   Pave   NaN      IR1   \n",
       "3   4          70       RL         60.0     9550   Pave   NaN      IR1   \n",
       "4   5          60       RL         84.0    14260   Pave   NaN      IR1   \n",
       "\n",
       "  LandContour Utilities  ... PoolArea PoolQC Fence MiscFeature MiscVal MoSold  \\\n",
       "0         Lvl    AllPub  ...        0    NaN   NaN         NaN       0      2   \n",
       "1         Lvl    AllPub  ...        0    NaN   NaN         NaN       0      5   \n",
       "2         Lvl    AllPub  ...        0    NaN   NaN         NaN       0      9   \n",
       "3         Lvl    AllPub  ...        0    NaN   NaN         NaN       0      2   \n",
       "4         Lvl    AllPub  ...        0    NaN   NaN         NaN       0     12   \n",
       "\n",
       "  YrSold  SaleType  SaleCondition  SalePrice  \n",
       "0   2008        WD         Normal     208500  \n",
       "1   2007        WD         Normal     181500  \n",
       "2   2008        WD         Normal     223500  \n",
       "3   2006        WD        Abnorml     140000  \n",
       "4   2008        WD         Normal     250000  \n",
       "\n",
       "[5 rows x 81 columns]"
      ]
     },
     "execution_count": 91,
     "metadata": {},
     "output_type": "execute_result"
    }
   ],
   "source": [
    "df = pd.read_csv('houseprice.csv')\n",
    "df.head()"
   ]
  },
  {
   "cell_type": "code",
   "execution_count": 92,
   "id": "a0ba02cb",
   "metadata": {},
   "outputs": [
    {
     "data": {
      "text/plain": [
       "(1460, 81)"
      ]
     },
     "execution_count": 92,
     "metadata": {},
     "output_type": "execute_result"
    }
   ],
   "source": [
    "df.shape"
   ]
  },
  {
   "cell_type": "markdown",
   "id": "e7c92dee",
   "metadata": {},
   "source": [
    "#### Data Preprocessing"
   ]
  },
  {
   "cell_type": "markdown",
   "id": "6bd9dbd3",
   "metadata": {},
   "source": [
    "#### Handle Null Values"
   ]
  },
  {
   "cell_type": "code",
   "execution_count": 93,
   "id": "3d2c8a9f",
   "metadata": {},
   "outputs": [],
   "source": [
    "def fetch_null_val(data):\n",
    "    nv = data.isnull().sum()\n",
    "    nv = nv[nv>0]\n",
    "    nv_df = pd.DataFrame({'Feature':nv.index,'Null_Count':nv.values,\n",
    "                         '%Null':(nv.values/data.shape[0])*100})\n",
    "    nv_df = nv_df.sort_values('%Null',ascending=False)\n",
    "    return nv_df"
   ]
  },
  {
   "cell_type": "code",
   "execution_count": 94,
   "id": "72cb0157",
   "metadata": {},
   "outputs": [
    {
     "data": {
      "text/html": [
       "<div>\n",
       "<style scoped>\n",
       "    .dataframe tbody tr th:only-of-type {\n",
       "        vertical-align: middle;\n",
       "    }\n",
       "\n",
       "    .dataframe tbody tr th {\n",
       "        vertical-align: top;\n",
       "    }\n",
       "\n",
       "    .dataframe thead th {\n",
       "        text-align: right;\n",
       "    }\n",
       "</style>\n",
       "<table border=\"1\" class=\"dataframe\">\n",
       "  <thead>\n",
       "    <tr style=\"text-align: right;\">\n",
       "      <th></th>\n",
       "      <th>Feature</th>\n",
       "      <th>Null_Count</th>\n",
       "      <th>%Null</th>\n",
       "    </tr>\n",
       "  </thead>\n",
       "  <tbody>\n",
       "    <tr>\n",
       "      <th>16</th>\n",
       "      <td>PoolQC</td>\n",
       "      <td>1453</td>\n",
       "      <td>99.520548</td>\n",
       "    </tr>\n",
       "    <tr>\n",
       "      <th>18</th>\n",
       "      <td>MiscFeature</td>\n",
       "      <td>1406</td>\n",
       "      <td>96.301370</td>\n",
       "    </tr>\n",
       "    <tr>\n",
       "      <th>1</th>\n",
       "      <td>Alley</td>\n",
       "      <td>1369</td>\n",
       "      <td>93.767123</td>\n",
       "    </tr>\n",
       "    <tr>\n",
       "      <th>17</th>\n",
       "      <td>Fence</td>\n",
       "      <td>1179</td>\n",
       "      <td>80.753425</td>\n",
       "    </tr>\n",
       "    <tr>\n",
       "      <th>10</th>\n",
       "      <td>FireplaceQu</td>\n",
       "      <td>690</td>\n",
       "      <td>47.260274</td>\n",
       "    </tr>\n",
       "    <tr>\n",
       "      <th>0</th>\n",
       "      <td>LotFrontage</td>\n",
       "      <td>259</td>\n",
       "      <td>17.739726</td>\n",
       "    </tr>\n",
       "    <tr>\n",
       "      <th>11</th>\n",
       "      <td>GarageType</td>\n",
       "      <td>81</td>\n",
       "      <td>5.547945</td>\n",
       "    </tr>\n",
       "    <tr>\n",
       "      <th>12</th>\n",
       "      <td>GarageYrBlt</td>\n",
       "      <td>81</td>\n",
       "      <td>5.547945</td>\n",
       "    </tr>\n",
       "    <tr>\n",
       "      <th>13</th>\n",
       "      <td>GarageFinish</td>\n",
       "      <td>81</td>\n",
       "      <td>5.547945</td>\n",
       "    </tr>\n",
       "    <tr>\n",
       "      <th>14</th>\n",
       "      <td>GarageQual</td>\n",
       "      <td>81</td>\n",
       "      <td>5.547945</td>\n",
       "    </tr>\n",
       "    <tr>\n",
       "      <th>15</th>\n",
       "      <td>GarageCond</td>\n",
       "      <td>81</td>\n",
       "      <td>5.547945</td>\n",
       "    </tr>\n",
       "    <tr>\n",
       "      <th>6</th>\n",
       "      <td>BsmtExposure</td>\n",
       "      <td>38</td>\n",
       "      <td>2.602740</td>\n",
       "    </tr>\n",
       "    <tr>\n",
       "      <th>8</th>\n",
       "      <td>BsmtFinType2</td>\n",
       "      <td>38</td>\n",
       "      <td>2.602740</td>\n",
       "    </tr>\n",
       "    <tr>\n",
       "      <th>7</th>\n",
       "      <td>BsmtFinType1</td>\n",
       "      <td>37</td>\n",
       "      <td>2.534247</td>\n",
       "    </tr>\n",
       "    <tr>\n",
       "      <th>5</th>\n",
       "      <td>BsmtCond</td>\n",
       "      <td>37</td>\n",
       "      <td>2.534247</td>\n",
       "    </tr>\n",
       "    <tr>\n",
       "      <th>4</th>\n",
       "      <td>BsmtQual</td>\n",
       "      <td>37</td>\n",
       "      <td>2.534247</td>\n",
       "    </tr>\n",
       "    <tr>\n",
       "      <th>3</th>\n",
       "      <td>MasVnrArea</td>\n",
       "      <td>8</td>\n",
       "      <td>0.547945</td>\n",
       "    </tr>\n",
       "    <tr>\n",
       "      <th>2</th>\n",
       "      <td>MasVnrType</td>\n",
       "      <td>8</td>\n",
       "      <td>0.547945</td>\n",
       "    </tr>\n",
       "    <tr>\n",
       "      <th>9</th>\n",
       "      <td>Electrical</td>\n",
       "      <td>1</td>\n",
       "      <td>0.068493</td>\n",
       "    </tr>\n",
       "  </tbody>\n",
       "</table>\n",
       "</div>"
      ],
      "text/plain": [
       "         Feature  Null_Count      %Null\n",
       "16        PoolQC        1453  99.520548\n",
       "18   MiscFeature        1406  96.301370\n",
       "1          Alley        1369  93.767123\n",
       "17         Fence        1179  80.753425\n",
       "10   FireplaceQu         690  47.260274\n",
       "0    LotFrontage         259  17.739726\n",
       "11    GarageType          81   5.547945\n",
       "12   GarageYrBlt          81   5.547945\n",
       "13  GarageFinish          81   5.547945\n",
       "14    GarageQual          81   5.547945\n",
       "15    GarageCond          81   5.547945\n",
       "6   BsmtExposure          38   2.602740\n",
       "8   BsmtFinType2          38   2.602740\n",
       "7   BsmtFinType1          37   2.534247\n",
       "5       BsmtCond          37   2.534247\n",
       "4       BsmtQual          37   2.534247\n",
       "3     MasVnrArea           8   0.547945\n",
       "2     MasVnrType           8   0.547945\n",
       "9     Electrical           1   0.068493"
      ]
     },
     "execution_count": 94,
     "metadata": {},
     "output_type": "execute_result"
    }
   ],
   "source": [
    "nv_df = fetch_null_val(df)\n",
    "nv_df"
   ]
  },
  {
   "cell_type": "code",
   "execution_count": 95,
   "id": "5076e650",
   "metadata": {},
   "outputs": [],
   "source": [
    "df1 = df.copy()"
   ]
  },
  {
   "cell_type": "code",
   "execution_count": 96,
   "id": "86960787",
   "metadata": {},
   "outputs": [
    {
     "name": "stdout",
     "output_type": "stream",
     "text": [
      "PoolQC [nan 'Ex' 'Fa' 'Gd']\n",
      "MiscFeature [nan 'Shed' 'Gar2' 'Othr' 'TenC']\n",
      "Alley [nan 'Grvl' 'Pave']\n",
      "Fence [nan 'MnPrv' 'GdWo' 'GdPrv' 'MnWw']\n"
     ]
    }
   ],
   "source": [
    "cols = ['PoolQC','MiscFeature','Alley','Fence']\n",
    "for i in cols:\n",
    "    print(i,df[i].unique())"
   ]
  },
  {
   "cell_type": "code",
   "execution_count": 97,
   "id": "dd703dea",
   "metadata": {},
   "outputs": [],
   "source": [
    "df.drop(['PoolQC','MiscFeature','Alley','Fence'],axis=1,inplace=True)"
   ]
  },
  {
   "cell_type": "code",
   "execution_count": 98,
   "id": "2b242e7a",
   "metadata": {},
   "outputs": [
    {
     "data": {
      "text/html": [
       "<div>\n",
       "<style scoped>\n",
       "    .dataframe tbody tr th:only-of-type {\n",
       "        vertical-align: middle;\n",
       "    }\n",
       "\n",
       "    .dataframe tbody tr th {\n",
       "        vertical-align: top;\n",
       "    }\n",
       "\n",
       "    .dataframe thead th {\n",
       "        text-align: right;\n",
       "    }\n",
       "</style>\n",
       "<table border=\"1\" class=\"dataframe\">\n",
       "  <thead>\n",
       "    <tr style=\"text-align: right;\">\n",
       "      <th></th>\n",
       "      <th>Feature</th>\n",
       "      <th>Null_Count</th>\n",
       "      <th>%Null</th>\n",
       "    </tr>\n",
       "  </thead>\n",
       "  <tbody>\n",
       "    <tr>\n",
       "      <th>9</th>\n",
       "      <td>FireplaceQu</td>\n",
       "      <td>690</td>\n",
       "      <td>47.260274</td>\n",
       "    </tr>\n",
       "    <tr>\n",
       "      <th>0</th>\n",
       "      <td>LotFrontage</td>\n",
       "      <td>259</td>\n",
       "      <td>17.739726</td>\n",
       "    </tr>\n",
       "    <tr>\n",
       "      <th>10</th>\n",
       "      <td>GarageType</td>\n",
       "      <td>81</td>\n",
       "      <td>5.547945</td>\n",
       "    </tr>\n",
       "    <tr>\n",
       "      <th>11</th>\n",
       "      <td>GarageYrBlt</td>\n",
       "      <td>81</td>\n",
       "      <td>5.547945</td>\n",
       "    </tr>\n",
       "    <tr>\n",
       "      <th>12</th>\n",
       "      <td>GarageFinish</td>\n",
       "      <td>81</td>\n",
       "      <td>5.547945</td>\n",
       "    </tr>\n",
       "    <tr>\n",
       "      <th>13</th>\n",
       "      <td>GarageQual</td>\n",
       "      <td>81</td>\n",
       "      <td>5.547945</td>\n",
       "    </tr>\n",
       "    <tr>\n",
       "      <th>14</th>\n",
       "      <td>GarageCond</td>\n",
       "      <td>81</td>\n",
       "      <td>5.547945</td>\n",
       "    </tr>\n",
       "    <tr>\n",
       "      <th>5</th>\n",
       "      <td>BsmtExposure</td>\n",
       "      <td>38</td>\n",
       "      <td>2.602740</td>\n",
       "    </tr>\n",
       "    <tr>\n",
       "      <th>7</th>\n",
       "      <td>BsmtFinType2</td>\n",
       "      <td>38</td>\n",
       "      <td>2.602740</td>\n",
       "    </tr>\n",
       "    <tr>\n",
       "      <th>3</th>\n",
       "      <td>BsmtQual</td>\n",
       "      <td>37</td>\n",
       "      <td>2.534247</td>\n",
       "    </tr>\n",
       "    <tr>\n",
       "      <th>4</th>\n",
       "      <td>BsmtCond</td>\n",
       "      <td>37</td>\n",
       "      <td>2.534247</td>\n",
       "    </tr>\n",
       "    <tr>\n",
       "      <th>6</th>\n",
       "      <td>BsmtFinType1</td>\n",
       "      <td>37</td>\n",
       "      <td>2.534247</td>\n",
       "    </tr>\n",
       "    <tr>\n",
       "      <th>1</th>\n",
       "      <td>MasVnrType</td>\n",
       "      <td>8</td>\n",
       "      <td>0.547945</td>\n",
       "    </tr>\n",
       "    <tr>\n",
       "      <th>2</th>\n",
       "      <td>MasVnrArea</td>\n",
       "      <td>8</td>\n",
       "      <td>0.547945</td>\n",
       "    </tr>\n",
       "    <tr>\n",
       "      <th>8</th>\n",
       "      <td>Electrical</td>\n",
       "      <td>1</td>\n",
       "      <td>0.068493</td>\n",
       "    </tr>\n",
       "  </tbody>\n",
       "</table>\n",
       "</div>"
      ],
      "text/plain": [
       "         Feature  Null_Count      %Null\n",
       "9    FireplaceQu         690  47.260274\n",
       "0    LotFrontage         259  17.739726\n",
       "10    GarageType          81   5.547945\n",
       "11   GarageYrBlt          81   5.547945\n",
       "12  GarageFinish          81   5.547945\n",
       "13    GarageQual          81   5.547945\n",
       "14    GarageCond          81   5.547945\n",
       "5   BsmtExposure          38   2.602740\n",
       "7   BsmtFinType2          38   2.602740\n",
       "3       BsmtQual          37   2.534247\n",
       "4       BsmtCond          37   2.534247\n",
       "6   BsmtFinType1          37   2.534247\n",
       "1     MasVnrType           8   0.547945\n",
       "2     MasVnrArea           8   0.547945\n",
       "8     Electrical           1   0.068493"
      ]
     },
     "execution_count": 98,
     "metadata": {},
     "output_type": "execute_result"
    }
   ],
   "source": [
    "nv_df = fetch_null_val(df)\n",
    "nv_df"
   ]
  },
  {
   "cell_type": "code",
   "execution_count": 99,
   "id": "444e3170",
   "metadata": {},
   "outputs": [
    {
     "data": {
      "text/plain": [
       "array(['FireplaceQu', 'LotFrontage', 'GarageType', 'GarageYrBlt',\n",
       "       'GarageFinish', 'GarageQual', 'GarageCond', 'BsmtExposure',\n",
       "       'BsmtFinType2', 'BsmtQual', 'BsmtCond', 'BsmtFinType1',\n",
       "       'MasVnrType', 'MasVnrArea', 'Electrical'], dtype=object)"
      ]
     },
     "execution_count": 99,
     "metadata": {},
     "output_type": "execute_result"
    }
   ],
   "source": [
    "nv_df['Feature'].values"
   ]
  },
  {
   "cell_type": "markdown",
   "id": "d13eceec",
   "metadata": {},
   "source": [
    "#### Basement related Features"
   ]
  },
  {
   "cell_type": "code",
   "execution_count": 100,
   "id": "f083905b",
   "metadata": {},
   "outputs": [
    {
     "name": "stdout",
     "output_type": "stream",
     "text": [
      "BsmtExposure ['No' 'Gd' 'Mn' 'Av' nan]\n",
      "BsmtFinType2 ['Unf' 'BLQ' nan 'ALQ' 'Rec' 'LwQ' 'GLQ']\n",
      "BsmtQual ['Gd' 'TA' 'Ex' nan 'Fa']\n",
      "BsmtCond ['TA' 'Gd' nan 'Fa' 'Po']\n",
      "BsmtFinType1 ['GLQ' 'ALQ' 'Unf' 'Rec' 'BLQ' nan 'LwQ']\n"
     ]
    }
   ],
   "source": [
    "cols = ['BsmtExposure','BsmtFinType2', 'BsmtQual', 'BsmtCond', 'BsmtFinType1']\n",
    "for i in cols:\n",
    "    print(i,df[i].unique())"
   ]
  },
  {
   "cell_type": "code",
   "execution_count": 101,
   "id": "fcee7257",
   "metadata": {},
   "outputs": [],
   "source": [
    "cols = ['BsmtExposure','BsmtFinType2', 'BsmtQual', 'BsmtCond', 'BsmtFinType1']\n",
    "for i in cols:\n",
    "    df[i] = df[i].fillna('No Basement')"
   ]
  },
  {
   "cell_type": "markdown",
   "id": "c72e54a6",
   "metadata": {},
   "source": [
    "#### Garege Related Faetures"
   ]
  },
  {
   "cell_type": "code",
   "execution_count": 102,
   "id": "6c452674",
   "metadata": {},
   "outputs": [
    {
     "name": "stdout",
     "output_type": "stream",
     "text": [
      "GarageType ['Attchd' 'Detchd' 'BuiltIn' 'CarPort' nan 'Basment' '2Types']\n",
      "GarageFinish ['RFn' 'Unf' 'Fin' nan]\n",
      "GarageQual ['TA' 'Fa' 'Gd' nan 'Ex' 'Po']\n",
      "GarageCond ['TA' 'Fa' nan 'Gd' 'Po' 'Ex']\n"
     ]
    }
   ],
   "source": [
    "cols = ['GarageType','GarageFinish', 'GarageQual', 'GarageCond']  #  'GarageYrBlt'\n",
    "for i in cols:\n",
    "    print(i,df[i].unique())"
   ]
  },
  {
   "cell_type": "code",
   "execution_count": 103,
   "id": "7f3a4732",
   "metadata": {},
   "outputs": [],
   "source": [
    "cols = ['GarageType','GarageFinish', 'GarageQual', 'GarageCond']\n",
    "for i in cols:\n",
    "    df[i] = df[i].fillna('No Garage')"
   ]
  },
  {
   "cell_type": "code",
   "execution_count": 104,
   "id": "d30a65d7",
   "metadata": {},
   "outputs": [
    {
     "name": "stdout",
     "output_type": "stream",
     "text": [
      "60.0     143\n",
      "70.0      70\n",
      "80.0      69\n",
      "50.0      57\n",
      "75.0      53\n",
      "        ... \n",
      "137.0      1\n",
      "141.0      1\n",
      "38.0       1\n",
      "140.0      1\n",
      "46.0       1\n",
      "Name: LotFrontage, Length: 110, dtype: int64\n",
      "0.0      861\n",
      "180.0      8\n",
      "72.0       8\n",
      "108.0      8\n",
      "120.0      7\n",
      "        ... \n",
      "562.0      1\n",
      "89.0       1\n",
      "921.0      1\n",
      "762.0      1\n",
      "119.0      1\n",
      "Name: MasVnrArea, Length: 327, dtype: int64\n"
     ]
    }
   ],
   "source": [
    "cols = ['LotFrontage','MasVnrArea']\n",
    "for i in cols:\n",
    "    print(df[i].value_counts())"
   ]
  },
  {
   "cell_type": "code",
   "execution_count": 105,
   "id": "d00edd88",
   "metadata": {},
   "outputs": [],
   "source": [
    "cols = ['LotFrontage','MasVnrArea']\n",
    "for i in cols:\n",
    "    df[i] = df[i].fillna(df[i].median())"
   ]
  },
  {
   "cell_type": "code",
   "execution_count": 106,
   "id": "dc5ad9b3",
   "metadata": {},
   "outputs": [
    {
     "data": {
      "text/html": [
       "<div>\n",
       "<style scoped>\n",
       "    .dataframe tbody tr th:only-of-type {\n",
       "        vertical-align: middle;\n",
       "    }\n",
       "\n",
       "    .dataframe tbody tr th {\n",
       "        vertical-align: top;\n",
       "    }\n",
       "\n",
       "    .dataframe thead th {\n",
       "        text-align: right;\n",
       "    }\n",
       "</style>\n",
       "<table border=\"1\" class=\"dataframe\">\n",
       "  <thead>\n",
       "    <tr style=\"text-align: right;\">\n",
       "      <th></th>\n",
       "      <th>Feature</th>\n",
       "      <th>Null_Count</th>\n",
       "      <th>%Null</th>\n",
       "    </tr>\n",
       "  </thead>\n",
       "  <tbody>\n",
       "    <tr>\n",
       "      <th>2</th>\n",
       "      <td>FireplaceQu</td>\n",
       "      <td>690</td>\n",
       "      <td>47.260274</td>\n",
       "    </tr>\n",
       "    <tr>\n",
       "      <th>3</th>\n",
       "      <td>GarageYrBlt</td>\n",
       "      <td>81</td>\n",
       "      <td>5.547945</td>\n",
       "    </tr>\n",
       "    <tr>\n",
       "      <th>0</th>\n",
       "      <td>MasVnrType</td>\n",
       "      <td>8</td>\n",
       "      <td>0.547945</td>\n",
       "    </tr>\n",
       "    <tr>\n",
       "      <th>1</th>\n",
       "      <td>Electrical</td>\n",
       "      <td>1</td>\n",
       "      <td>0.068493</td>\n",
       "    </tr>\n",
       "  </tbody>\n",
       "</table>\n",
       "</div>"
      ],
      "text/plain": [
       "       Feature  Null_Count      %Null\n",
       "2  FireplaceQu         690  47.260274\n",
       "3  GarageYrBlt          81   5.547945\n",
       "0   MasVnrType           8   0.547945\n",
       "1   Electrical           1   0.068493"
      ]
     },
     "execution_count": 106,
     "metadata": {},
     "output_type": "execute_result"
    }
   ],
   "source": [
    "nv_df = fetch_null_val(df)\n",
    "nv_df"
   ]
  },
  {
   "cell_type": "code",
   "execution_count": 107,
   "id": "66a4e2c9",
   "metadata": {},
   "outputs": [
    {
     "data": {
      "text/plain": [
       "97"
      ]
     },
     "execution_count": 107,
     "metadata": {},
     "output_type": "execute_result"
    }
   ],
   "source": [
    "df['GarageYrBlt'].nunique()"
   ]
  },
  {
   "cell_type": "code",
   "execution_count": 108,
   "id": "bbb515c7",
   "metadata": {},
   "outputs": [],
   "source": [
    "df['GarageYrBlt'] = df['GarageYrBlt'].fillna(df['GarageYrBlt'].mode()[0])\n",
    "\n",
    "# df['GarageYrBlt'].mode()[0] or df['GarageYrBlt'].mode().max()"
   ]
  },
  {
   "cell_type": "code",
   "execution_count": 109,
   "id": "08a86ba8",
   "metadata": {},
   "outputs": [
    {
     "data": {
      "text/plain": [
       "Gd    380\n",
       "TA    313\n",
       "Fa     33\n",
       "Ex     24\n",
       "Po     20\n",
       "Name: FireplaceQu, dtype: int64"
      ]
     },
     "execution_count": 109,
     "metadata": {},
     "output_type": "execute_result"
    }
   ],
   "source": [
    "df['FireplaceQu'].value_counts()"
   ]
  },
  {
   "cell_type": "code",
   "execution_count": 110,
   "id": "482911f5",
   "metadata": {},
   "outputs": [],
   "source": [
    "df['FireplaceQu'] = df['FireplaceQu'].fillna('No Fireplace')"
   ]
  },
  {
   "cell_type": "code",
   "execution_count": 111,
   "id": "cd8f21e8",
   "metadata": {},
   "outputs": [
    {
     "data": {
      "text/html": [
       "<div>\n",
       "<style scoped>\n",
       "    .dataframe tbody tr th:only-of-type {\n",
       "        vertical-align: middle;\n",
       "    }\n",
       "\n",
       "    .dataframe tbody tr th {\n",
       "        vertical-align: top;\n",
       "    }\n",
       "\n",
       "    .dataframe thead th {\n",
       "        text-align: right;\n",
       "    }\n",
       "</style>\n",
       "<table border=\"1\" class=\"dataframe\">\n",
       "  <thead>\n",
       "    <tr style=\"text-align: right;\">\n",
       "      <th></th>\n",
       "      <th>Feature</th>\n",
       "      <th>Null_Count</th>\n",
       "      <th>%Null</th>\n",
       "    </tr>\n",
       "  </thead>\n",
       "  <tbody>\n",
       "    <tr>\n",
       "      <th>0</th>\n",
       "      <td>MasVnrType</td>\n",
       "      <td>8</td>\n",
       "      <td>0.547945</td>\n",
       "    </tr>\n",
       "    <tr>\n",
       "      <th>1</th>\n",
       "      <td>Electrical</td>\n",
       "      <td>1</td>\n",
       "      <td>0.068493</td>\n",
       "    </tr>\n",
       "  </tbody>\n",
       "</table>\n",
       "</div>"
      ],
      "text/plain": [
       "      Feature  Null_Count     %Null\n",
       "0  MasVnrType           8  0.547945\n",
       "1  Electrical           1  0.068493"
      ]
     },
     "execution_count": 111,
     "metadata": {},
     "output_type": "execute_result"
    }
   ],
   "source": [
    "nv_df = fetch_null_val(df)\n",
    "nv_df"
   ]
  },
  {
   "cell_type": "code",
   "execution_count": 112,
   "id": "48d1b9c6",
   "metadata": {},
   "outputs": [
    {
     "data": {
      "text/plain": [
       "(1460, 77)"
      ]
     },
     "execution_count": 112,
     "metadata": {},
     "output_type": "execute_result"
    }
   ],
   "source": [
    "df.shape"
   ]
  },
  {
   "cell_type": "code",
   "execution_count": 113,
   "id": "86ed58b0",
   "metadata": {},
   "outputs": [],
   "source": [
    "df.dropna(inplace=True)"
   ]
  },
  {
   "cell_type": "code",
   "execution_count": 114,
   "id": "246bf471",
   "metadata": {},
   "outputs": [
    {
     "data": {
      "text/plain": [
       "(1451, 77)"
      ]
     },
     "execution_count": 114,
     "metadata": {},
     "output_type": "execute_result"
    }
   ],
   "source": [
    "df.shape"
   ]
  },
  {
   "cell_type": "code",
   "execution_count": 115,
   "id": "559b43bb",
   "metadata": {},
   "outputs": [
    {
     "data": {
      "text/html": [
       "<div>\n",
       "<style scoped>\n",
       "    .dataframe tbody tr th:only-of-type {\n",
       "        vertical-align: middle;\n",
       "    }\n",
       "\n",
       "    .dataframe tbody tr th {\n",
       "        vertical-align: top;\n",
       "    }\n",
       "\n",
       "    .dataframe thead th {\n",
       "        text-align: right;\n",
       "    }\n",
       "</style>\n",
       "<table border=\"1\" class=\"dataframe\">\n",
       "  <thead>\n",
       "    <tr style=\"text-align: right;\">\n",
       "      <th></th>\n",
       "      <th>Feature</th>\n",
       "      <th>Null_Count</th>\n",
       "      <th>%Null</th>\n",
       "    </tr>\n",
       "  </thead>\n",
       "  <tbody>\n",
       "  </tbody>\n",
       "</table>\n",
       "</div>"
      ],
      "text/plain": [
       "Empty DataFrame\n",
       "Columns: [Feature, Null_Count, %Null]\n",
       "Index: []"
      ]
     },
     "execution_count": 115,
     "metadata": {},
     "output_type": "execute_result"
    }
   ],
   "source": [
    "nv_df = fetch_null_val(df)\n",
    "nv_df"
   ]
  },
  {
   "cell_type": "markdown",
   "id": "b93facb9",
   "metadata": {},
   "source": [
    "#### Duplicates"
   ]
  },
  {
   "cell_type": "code",
   "execution_count": 116,
   "id": "46b37ee3",
   "metadata": {},
   "outputs": [
    {
     "data": {
      "text/plain": [
       "0"
      ]
     },
     "execution_count": 116,
     "metadata": {},
     "output_type": "execute_result"
    }
   ],
   "source": [
    "df.duplicated().sum()"
   ]
  },
  {
   "cell_type": "code",
   "execution_count": 117,
   "id": "81f069cc",
   "metadata": {},
   "outputs": [
    {
     "data": {
      "text/plain": [
       "Id                 int64\n",
       "MSSubClass         int64\n",
       "MSZoning          object\n",
       "LotFrontage      float64\n",
       "LotArea            int64\n",
       "                  ...   \n",
       "MoSold             int64\n",
       "YrSold             int64\n",
       "SaleType          object\n",
       "SaleCondition     object\n",
       "SalePrice          int64\n",
       "Length: 77, dtype: object"
      ]
     },
     "execution_count": 117,
     "metadata": {},
     "output_type": "execute_result"
    }
   ],
   "source": [
    "df.dtypes"
   ]
  },
  {
   "cell_type": "code",
   "execution_count": 118,
   "id": "036d43f4",
   "metadata": {},
   "outputs": [],
   "source": [
    "df.drop('Id',axis=1,inplace=True)"
   ]
  },
  {
   "cell_type": "code",
   "execution_count": 119,
   "id": "b63c22e0",
   "metadata": {},
   "outputs": [
    {
     "data": {
      "text/plain": [
       "(1451, 76)"
      ]
     },
     "execution_count": 119,
     "metadata": {},
     "output_type": "execute_result"
    }
   ],
   "source": [
    "df.shape"
   ]
  },
  {
   "cell_type": "markdown",
   "id": "99fb5725",
   "metadata": {},
   "source": [
    "### EDA"
   ]
  },
  {
   "cell_type": "code",
   "execution_count": 120,
   "id": "f0b06200",
   "metadata": {},
   "outputs": [
    {
     "data": {
      "text/plain": [
       "AllPub    1450\n",
       "NoSeWa       1\n",
       "Name: Utilities, dtype: int64"
      ]
     },
     "execution_count": 120,
     "metadata": {},
     "output_type": "execute_result"
    }
   ],
   "source": [
    "df['Utilities'].value_counts()"
   ]
  },
  {
   "cell_type": "code",
   "execution_count": 121,
   "id": "3821adfd",
   "metadata": {},
   "outputs": [
    {
     "data": {
      "text/plain": [
       "Index(['MSSubClass', 'MSZoning', 'LotFrontage', 'LotArea', 'Street',\n",
       "       'LotShape', 'LandContour', 'LotConfig', 'LandSlope', 'Neighborhood',\n",
       "       'Condition1', 'Condition2', 'BldgType', 'HouseStyle', 'OverallQual',\n",
       "       'OverallCond', 'YearBuilt', 'YearRemodAdd', 'RoofStyle', 'RoofMatl',\n",
       "       'Exterior1st', 'Exterior2nd', 'MasVnrType', 'MasVnrArea', 'ExterQual',\n",
       "       'ExterCond', 'Foundation', 'BsmtQual', 'BsmtCond', 'BsmtExposure',\n",
       "       'BsmtFinType1', 'BsmtFinSF1', 'BsmtFinType2', 'BsmtFinSF2', 'BsmtUnfSF',\n",
       "       'TotalBsmtSF', 'Heating', 'HeatingQC', 'CentralAir', 'Electrical',\n",
       "       '1stFlrSF', '2ndFlrSF', 'LowQualFinSF', 'GrLivArea', 'BsmtFullBath',\n",
       "       'BsmtHalfBath', 'FullBath', 'HalfBath', 'BedroomAbvGr', 'KitchenAbvGr',\n",
       "       'KitchenQual', 'TotRmsAbvGrd', 'Functional', 'Fireplaces',\n",
       "       'FireplaceQu', 'GarageType', 'GarageYrBlt', 'GarageFinish',\n",
       "       'GarageCars', 'GarageArea', 'GarageQual', 'GarageCond', 'PavedDrive',\n",
       "       'WoodDeckSF', 'OpenPorchSF', 'EnclosedPorch', '3SsnPorch',\n",
       "       'ScreenPorch', 'PoolArea', 'MiscVal', 'MoSold', 'YrSold', 'SaleType',\n",
       "       'SaleCondition', 'SalePrice'],\n",
       "      dtype='object')"
      ]
     },
     "execution_count": 121,
     "metadata": {},
     "output_type": "execute_result"
    }
   ],
   "source": [
    "df.drop('Utilities',axis=1,inplace=True)\n",
    "df.columns"
   ]
  },
  {
   "cell_type": "code",
   "execution_count": 122,
   "id": "672d9d32",
   "metadata": {},
   "outputs": [
    {
     "name": "stdout",
     "output_type": "stream",
     "text": [
      "Index(['MSZoning', 'Street', 'LotShape', 'LandContour', 'LotConfig',\n",
      "       'LandSlope', 'Neighborhood', 'Condition1', 'Condition2', 'BldgType',\n",
      "       'HouseStyle', 'RoofStyle', 'RoofMatl', 'Exterior1st', 'Exterior2nd',\n",
      "       'MasVnrType', 'ExterQual', 'ExterCond', 'Foundation', 'BsmtQual',\n",
      "       'BsmtCond', 'BsmtExposure', 'BsmtFinType1', 'BsmtFinType2', 'Heating',\n",
      "       'HeatingQC', 'CentralAir', 'Electrical', 'KitchenQual', 'Functional',\n",
      "       'FireplaceQu', 'GarageType', 'GarageFinish', 'GarageQual', 'GarageCond',\n",
      "       'PavedDrive', 'SaleType', 'SaleCondition'],\n",
      "      dtype='object')\n",
      "Index(['MSSubClass', 'LotFrontage', 'LotArea', 'OverallQual', 'OverallCond',\n",
      "       'YearBuilt', 'YearRemodAdd', 'MasVnrArea', 'BsmtFinSF1', 'BsmtFinSF2',\n",
      "       'BsmtUnfSF', 'TotalBsmtSF', '1stFlrSF', '2ndFlrSF', 'LowQualFinSF',\n",
      "       'GrLivArea', 'BsmtFullBath', 'BsmtHalfBath', 'FullBath', 'HalfBath',\n",
      "       'BedroomAbvGr', 'KitchenAbvGr', 'TotRmsAbvGrd', 'Fireplaces',\n",
      "       'GarageYrBlt', 'GarageCars', 'GarageArea', 'WoodDeckSF', 'OpenPorchSF',\n",
      "       'EnclosedPorch', '3SsnPorch', 'ScreenPorch', 'PoolArea', 'MiscVal',\n",
      "       'MoSold', 'YrSold', 'SalePrice'],\n",
      "      dtype='object')\n"
     ]
    }
   ],
   "source": [
    "cat_cols = df.select_dtypes(include='object').columns\n",
    "num_cols = df.dtypes[df.dtypes!='object'].index\n",
    "print(cat_cols)\n",
    "print(num_cols)"
   ]
  },
  {
   "cell_type": "code",
   "execution_count": 123,
   "id": "5703d530",
   "metadata": {},
   "outputs": [
    {
     "name": "stdout",
     "output_type": "stream",
     "text": [
      "MSZoning 5\n",
      "Street 2\n",
      "LotShape 4\n",
      "LandContour 4\n",
      "LotConfig 5\n",
      "LandSlope 3\n",
      "Neighborhood 25\n",
      "Condition1 9\n",
      "Condition2 8\n",
      "BldgType 5\n",
      "HouseStyle 8\n",
      "RoofStyle 6\n",
      "RoofMatl 8\n",
      "Exterior1st 15\n",
      "Exterior2nd 16\n",
      "MasVnrType 4\n",
      "ExterQual 4\n",
      "ExterCond 5\n",
      "Foundation 6\n",
      "BsmtQual 5\n",
      "BsmtCond 5\n",
      "BsmtExposure 5\n",
      "BsmtFinType1 7\n",
      "BsmtFinType2 7\n",
      "Heating 6\n",
      "HeatingQC 5\n",
      "CentralAir 2\n",
      "Electrical 5\n",
      "KitchenQual 4\n",
      "Functional 7\n",
      "FireplaceQu 6\n",
      "GarageType 7\n",
      "GarageFinish 4\n",
      "GarageQual 6\n",
      "GarageCond 6\n",
      "PavedDrive 3\n",
      "SaleType 9\n",
      "SaleCondition 6\n"
     ]
    }
   ],
   "source": [
    "for i in cat_cols:\n",
    "    print(i,df[i].nunique())"
   ]
  },
  {
   "cell_type": "code",
   "execution_count": 124,
   "id": "24270389",
   "metadata": {},
   "outputs": [],
   "source": [
    "# df['Neighborhood'].value_counts()"
   ]
  },
  {
   "cell_type": "code",
   "execution_count": 125,
   "id": "3d284336",
   "metadata": {},
   "outputs": [
    {
     "name": "stdout",
     "output_type": "stream",
     "text": [
      "Street\n",
      "Pave    1445\n",
      "Grvl       6\n",
      "Name: Street, dtype: int64\n",
      "CentralAir\n",
      "Y    1356\n",
      "N      95\n",
      "Name: CentralAir, dtype: int64\n"
     ]
    }
   ],
   "source": [
    "cols = ['Street','CentralAir']\n",
    "for i in cols:\n",
    "    print(i)\n",
    "    print(df[i].value_counts())"
   ]
  },
  {
   "cell_type": "code",
   "execution_count": 126,
   "id": "4458e1f7",
   "metadata": {},
   "outputs": [],
   "source": [
    "df.drop(['Street'],axis=1,inplace=True)"
   ]
  },
  {
   "cell_type": "code",
   "execution_count": 127,
   "id": "67bd103f",
   "metadata": {},
   "outputs": [
    {
     "data": {
      "text/plain": [
       "(1451, 74)"
      ]
     },
     "execution_count": 127,
     "metadata": {},
     "output_type": "execute_result"
    }
   ],
   "source": [
    "df.shape"
   ]
  },
  {
   "cell_type": "code",
   "execution_count": 128,
   "id": "78b222f5",
   "metadata": {},
   "outputs": [
    {
     "name": "stdout",
     "output_type": "stream",
     "text": [
      "Index(['MSZoning', 'LotShape', 'LandContour', 'LotConfig', 'LandSlope',\n",
      "       'Neighborhood', 'Condition1', 'Condition2', 'BldgType', 'HouseStyle',\n",
      "       'RoofStyle', 'RoofMatl', 'Exterior1st', 'Exterior2nd', 'MasVnrType',\n",
      "       'ExterQual', 'ExterCond', 'Foundation', 'BsmtQual', 'BsmtCond',\n",
      "       'BsmtExposure', 'BsmtFinType1', 'BsmtFinType2', 'Heating', 'HeatingQC',\n",
      "       'CentralAir', 'Electrical', 'KitchenQual', 'Functional', 'FireplaceQu',\n",
      "       'GarageType', 'GarageFinish', 'GarageQual', 'GarageCond', 'PavedDrive',\n",
      "       'SaleType', 'SaleCondition'],\n",
      "      dtype='object')\n"
     ]
    }
   ],
   "source": [
    "cat_cols = df.select_dtypes(include='object').columns\n",
    "print(cat_cols)"
   ]
  },
  {
   "cell_type": "code",
   "execution_count": 129,
   "id": "691625e5",
   "metadata": {},
   "outputs": [
    {
     "data": {
      "image/png": "[encoded data removed]",
      "text/plain": [
       "<Figure size 1200x2000 with 10 Axes>"
      ]
     },
     "metadata": {},
     "output_type": "display_data"
    }
   ],
   "source": [
    "cols = ['LotShape','LandSlope','HouseStyle','Exterior2nd','BsmtQual',\n",
    "        'HeatingQC','Electrical','GarageCond','SaleType', 'SaleCondition']\n",
    "\n",
    "plt.figure(figsize=(12,20))\n",
    "for i in range(len(cols)):\n",
    "    plt.subplot(5,2,i+1)\n",
    "    sns.countplot(x=df[cols[i]])\n",
    "    plt.title(f'Countplot for {cols[i]}')\n",
    "\n",
    "plt.tight_layout()\n",
    "plt.show()"
   ]
  },
  {
   "cell_type": "code",
   "execution_count": 130,
   "id": "7bc8b1af",
   "metadata": {},
   "outputs": [
    {
     "data": {
      "text/plain": [
       "Index(['MSSubClass', 'LotFrontage', 'LotArea', 'OverallQual', 'OverallCond',\n",
       "       'YearBuilt', 'YearRemodAdd', 'MasVnrArea', 'BsmtFinSF1', 'BsmtFinSF2',\n",
       "       'BsmtUnfSF', 'TotalBsmtSF', '1stFlrSF', '2ndFlrSF', 'LowQualFinSF',\n",
       "       'GrLivArea', 'BsmtFullBath', 'BsmtHalfBath', 'FullBath', 'HalfBath',\n",
       "       'BedroomAbvGr', 'KitchenAbvGr', 'TotRmsAbvGrd', 'Fireplaces',\n",
       "       'GarageYrBlt', 'GarageCars', 'GarageArea', 'WoodDeckSF', 'OpenPorchSF',\n",
       "       'EnclosedPorch', '3SsnPorch', 'ScreenPorch', 'PoolArea', 'MiscVal',\n",
       "       'MoSold', 'YrSold', 'SalePrice'],\n",
       "      dtype='object')"
      ]
     },
     "execution_count": 130,
     "metadata": {},
     "output_type": "execute_result"
    }
   ],
   "source": [
    "num_cols"
   ]
  },
  {
   "cell_type": "code",
   "execution_count": 131,
   "id": "415e09e2",
   "metadata": {},
   "outputs": [
    {
     "data": {
      "image/png": "[encoded data removed]",
      "text/plain": [
       "<Figure size 1200x2000 with 10 Axes>"
      ]
     },
     "metadata": {},
     "output_type": "display_data"
    }
   ],
   "source": [
    "cols = ['LotArea','MasVnrArea','TotalBsmtSF','1stFlrSF','GrLivArea',\n",
    "        'TotRmsAbvGrd','BedroomAbvGr','GarageArea','PoolArea', 'SalePrice']\n",
    "\n",
    "plt.figure(figsize=(12,20))\n",
    "for i in range(len(cols)):\n",
    "    plt.subplot(5,2,i+1)\n",
    "    sns.histplot(x=df[cols[i]],kde=True)\n",
    "    plt.title(f'Countplot for {cols[i]}')\n",
    "\n",
    "plt.tight_layout()\n",
    "plt.show()"
   ]
  },
  {
   "cell_type": "markdown",
   "id": "ca6c2245",
   "metadata": {},
   "source": [
    "#### Corr "
   ]
  },
  {
   "cell_type": "code",
   "execution_count": 132,
   "id": "26b31ab3",
   "metadata": {},
   "outputs": [
    {
     "name": "stdout",
     "output_type": "stream",
     "text": [
      "Index(['MSSubClass', 'LotFrontage', 'LotArea', 'OverallQual', 'OverallCond',\n",
      "       'YearBuilt', 'YearRemodAdd', 'MasVnrArea', 'BsmtFinSF1', 'BsmtFinSF2',\n",
      "       'BsmtUnfSF', 'TotalBsmtSF', '1stFlrSF', '2ndFlrSF', 'LowQualFinSF',\n",
      "       'GrLivArea', 'BsmtFullBath', 'BsmtHalfBath', 'FullBath', 'HalfBath',\n",
      "       'BedroomAbvGr', 'KitchenAbvGr', 'TotRmsAbvGrd', 'Fireplaces',\n",
      "       'GarageYrBlt', 'GarageCars', 'GarageArea', 'WoodDeckSF', 'OpenPorchSF',\n",
      "       'EnclosedPorch', '3SsnPorch', 'ScreenPorch', 'PoolArea', 'MiscVal',\n",
      "       'MoSold', 'YrSold', 'SalePrice'],\n",
      "      dtype='object')\n"
     ]
    }
   ],
   "source": [
    "num_cols = df.dtypes[df.dtypes!='object'].index\n",
    "print(num_cols)"
   ]
  },
  {
   "cell_type": "code",
   "execution_count": 133,
   "id": "06a23f76",
   "metadata": {},
   "outputs": [
    {
     "data": {
      "image/png": "[encoded data removed]",
      "text/plain": [
       "<Figure size 2000x2000 with 2 Axes>"
      ]
     },
     "metadata": {},
     "output_type": "display_data"
    }
   ],
   "source": [
    "corr = df[num_cols].corr()\n",
    "plt.figure(figsize=(20,20))\n",
    "sns.heatmap(corr[abs(corr)>=0.7],annot=True,cmap='coolwarm')\n",
    "plt.show()"
   ]
  },
  {
   "cell_type": "code",
   "execution_count": null,
   "id": "b905b738",
   "metadata": {},
   "outputs": [],
   "source": []
  },
  {
   "cell_type": "markdown",
   "id": "c4b367f8",
   "metadata": {},
   "source": [
    "#### Outlier Treatment"
   ]
  },
  {
   "cell_type": "code",
   "execution_count": 134,
   "id": "88aa8302",
   "metadata": {},
   "outputs": [
    {
     "data": {
      "text/html": [
       "<div>\n",
       "<style scoped>\n",
       "    .dataframe tbody tr th:only-of-type {\n",
       "        vertical-align: middle;\n",
       "    }\n",
       "\n",
       "    .dataframe tbody tr th {\n",
       "        vertical-align: top;\n",
       "    }\n",
       "\n",
       "    .dataframe thead th {\n",
       "        text-align: right;\n",
       "    }\n",
       "</style>\n",
       "<table border=\"1\" class=\"dataframe\">\n",
       "  <thead>\n",
       "    <tr style=\"text-align: right;\">\n",
       "      <th></th>\n",
       "      <th>min</th>\n",
       "      <th>1%</th>\n",
       "      <th>2%</th>\n",
       "      <th>3%</th>\n",
       "      <th>5%</th>\n",
       "      <th>9.7%</th>\n",
       "      <th>50%</th>\n",
       "      <th>98%</th>\n",
       "      <th>99%</th>\n",
       "      <th>max</th>\n",
       "    </tr>\n",
       "  </thead>\n",
       "  <tbody>\n",
       "    <tr>\n",
       "      <th>MSSubClass</th>\n",
       "      <td>20.0</td>\n",
       "      <td>20.0</td>\n",
       "      <td>20.0</td>\n",
       "      <td>20.0</td>\n",
       "      <td>20.0</td>\n",
       "      <td>20.00</td>\n",
       "      <td>50.0</td>\n",
       "      <td>190.0</td>\n",
       "      <td>190.0</td>\n",
       "      <td>190.0</td>\n",
       "    </tr>\n",
       "    <tr>\n",
       "      <th>LotFrontage</th>\n",
       "      <td>21.0</td>\n",
       "      <td>21.0</td>\n",
       "      <td>24.0</td>\n",
       "      <td>30.0</td>\n",
       "      <td>36.0</td>\n",
       "      <td>48.00</td>\n",
       "      <td>69.0</td>\n",
       "      <td>121.0</td>\n",
       "      <td>137.5</td>\n",
       "      <td>313.0</td>\n",
       "    </tr>\n",
       "    <tr>\n",
       "      <th>LotArea</th>\n",
       "      <td>1300.0</td>\n",
       "      <td>1680.0</td>\n",
       "      <td>2117.0</td>\n",
       "      <td>2522.0</td>\n",
       "      <td>3273.0</td>\n",
       "      <td>4974.80</td>\n",
       "      <td>9477.0</td>\n",
       "      <td>25095.0</td>\n",
       "      <td>37802.0</td>\n",
       "      <td>215245.0</td>\n",
       "    </tr>\n",
       "    <tr>\n",
       "      <th>OverallQual</th>\n",
       "      <td>1.0</td>\n",
       "      <td>3.0</td>\n",
       "      <td>4.0</td>\n",
       "      <td>4.0</td>\n",
       "      <td>4.0</td>\n",
       "      <td>4.65</td>\n",
       "      <td>6.0</td>\n",
       "      <td>9.0</td>\n",
       "      <td>10.0</td>\n",
       "      <td>10.0</td>\n",
       "    </tr>\n",
       "    <tr>\n",
       "      <th>OverallCond</th>\n",
       "      <td>1.0</td>\n",
       "      <td>3.0</td>\n",
       "      <td>3.0</td>\n",
       "      <td>4.0</td>\n",
       "      <td>4.0</td>\n",
       "      <td>5.00</td>\n",
       "      <td>5.0</td>\n",
       "      <td>8.0</td>\n",
       "      <td>9.0</td>\n",
       "      <td>9.0</td>\n",
       "    </tr>\n",
       "    <tr>\n",
       "      <th>YearBuilt</th>\n",
       "      <td>1872.0</td>\n",
       "      <td>1899.0</td>\n",
       "      <td>1908.0</td>\n",
       "      <td>1910.0</td>\n",
       "      <td>1916.0</td>\n",
       "      <td>1924.00</td>\n",
       "      <td>1972.0</td>\n",
       "      <td>2008.0</td>\n",
       "      <td>2009.0</td>\n",
       "      <td>2010.0</td>\n",
       "    </tr>\n",
       "    <tr>\n",
       "      <th>YearRemodAdd</th>\n",
       "      <td>1950.0</td>\n",
       "      <td>1950.0</td>\n",
       "      <td>1950.0</td>\n",
       "      <td>1950.0</td>\n",
       "      <td>1950.0</td>\n",
       "      <td>1950.00</td>\n",
       "      <td>1993.0</td>\n",
       "      <td>2008.0</td>\n",
       "      <td>2009.0</td>\n",
       "      <td>2010.0</td>\n",
       "    </tr>\n",
       "    <tr>\n",
       "      <th>MasVnrArea</th>\n",
       "      <td>0.0</td>\n",
       "      <td>0.0</td>\n",
       "      <td>0.0</td>\n",
       "      <td>0.0</td>\n",
       "      <td>0.0</td>\n",
       "      <td>0.00</td>\n",
       "      <td>0.0</td>\n",
       "      <td>651.0</td>\n",
       "      <td>792.0</td>\n",
       "      <td>1600.0</td>\n",
       "    </tr>\n",
       "    <tr>\n",
       "      <th>BsmtFinSF1</th>\n",
       "      <td>0.0</td>\n",
       "      <td>0.0</td>\n",
       "      <td>0.0</td>\n",
       "      <td>0.0</td>\n",
       "      <td>0.0</td>\n",
       "      <td>0.00</td>\n",
       "      <td>381.0</td>\n",
       "      <td>1443.0</td>\n",
       "      <td>1572.5</td>\n",
       "      <td>5644.0</td>\n",
       "    </tr>\n",
       "    <tr>\n",
       "      <th>BsmtFinSF2</th>\n",
       "      <td>0.0</td>\n",
       "      <td>0.0</td>\n",
       "      <td>0.0</td>\n",
       "      <td>0.0</td>\n",
       "      <td>0.0</td>\n",
       "      <td>0.00</td>\n",
       "      <td>0.0</td>\n",
       "      <td>661.0</td>\n",
       "      <td>832.0</td>\n",
       "      <td>1474.0</td>\n",
       "    </tr>\n",
       "    <tr>\n",
       "      <th>BsmtUnfSF</th>\n",
       "      <td>0.0</td>\n",
       "      <td>0.0</td>\n",
       "      <td>0.0</td>\n",
       "      <td>0.0</td>\n",
       "      <td>0.0</td>\n",
       "      <td>64.00</td>\n",
       "      <td>479.0</td>\n",
       "      <td>1680.0</td>\n",
       "      <td>1797.5</td>\n",
       "      <td>2336.0</td>\n",
       "    </tr>\n",
       "    <tr>\n",
       "      <th>TotalBsmtSF</th>\n",
       "      <td>0.0</td>\n",
       "      <td>0.0</td>\n",
       "      <td>0.0</td>\n",
       "      <td>304.5</td>\n",
       "      <td>520.0</td>\n",
       "      <td>630.00</td>\n",
       "      <td>991.0</td>\n",
       "      <td>1992.0</td>\n",
       "      <td>2155.5</td>\n",
       "      <td>6110.0</td>\n",
       "    </tr>\n",
       "    <tr>\n",
       "      <th>1stFlrSF</th>\n",
       "      <td>334.0</td>\n",
       "      <td>520.0</td>\n",
       "      <td>581.0</td>\n",
       "      <td>625.0</td>\n",
       "      <td>672.5</td>\n",
       "      <td>755.65</td>\n",
       "      <td>1086.0</td>\n",
       "      <td>2069.0</td>\n",
       "      <td>2212.0</td>\n",
       "      <td>4692.0</td>\n",
       "    </tr>\n",
       "    <tr>\n",
       "      <th>2ndFlrSF</th>\n",
       "      <td>0.0</td>\n",
       "      <td>0.0</td>\n",
       "      <td>0.0</td>\n",
       "      <td>0.0</td>\n",
       "      <td>0.0</td>\n",
       "      <td>0.00</td>\n",
       "      <td>0.0</td>\n",
       "      <td>1320.0</td>\n",
       "      <td>1420.0</td>\n",
       "      <td>2065.0</td>\n",
       "    </tr>\n",
       "    <tr>\n",
       "      <th>LowQualFinSF</th>\n",
       "      <td>0.0</td>\n",
       "      <td>0.0</td>\n",
       "      <td>0.0</td>\n",
       "      <td>0.0</td>\n",
       "      <td>0.0</td>\n",
       "      <td>0.00</td>\n",
       "      <td>0.0</td>\n",
       "      <td>0.0</td>\n",
       "      <td>360.0</td>\n",
       "      <td>572.0</td>\n",
       "    </tr>\n",
       "    <tr>\n",
       "      <th>GrLivArea</th>\n",
       "      <td>334.0</td>\n",
       "      <td>692.0</td>\n",
       "      <td>768.0</td>\n",
       "      <td>796.0</td>\n",
       "      <td>848.0</td>\n",
       "      <td>904.00</td>\n",
       "      <td>1464.0</td>\n",
       "      <td>2784.0</td>\n",
       "      <td>3126.0</td>\n",
       "      <td>5642.0</td>\n",
       "    </tr>\n",
       "    <tr>\n",
       "      <th>BsmtFullBath</th>\n",
       "      <td>0.0</td>\n",
       "      <td>0.0</td>\n",
       "      <td>0.0</td>\n",
       "      <td>0.0</td>\n",
       "      <td>0.0</td>\n",
       "      <td>0.00</td>\n",
       "      <td>0.0</td>\n",
       "      <td>1.0</td>\n",
       "      <td>2.0</td>\n",
       "      <td>3.0</td>\n",
       "    </tr>\n",
       "    <tr>\n",
       "      <th>BsmtHalfBath</th>\n",
       "      <td>0.0</td>\n",
       "      <td>0.0</td>\n",
       "      <td>0.0</td>\n",
       "      <td>0.0</td>\n",
       "      <td>0.0</td>\n",
       "      <td>0.00</td>\n",
       "      <td>0.0</td>\n",
       "      <td>1.0</td>\n",
       "      <td>1.0</td>\n",
       "      <td>2.0</td>\n",
       "    </tr>\n",
       "    <tr>\n",
       "      <th>FullBath</th>\n",
       "      <td>0.0</td>\n",
       "      <td>1.0</td>\n",
       "      <td>1.0</td>\n",
       "      <td>1.0</td>\n",
       "      <td>1.0</td>\n",
       "      <td>1.00</td>\n",
       "      <td>2.0</td>\n",
       "      <td>3.0</td>\n",
       "      <td>3.0</td>\n",
       "      <td>3.0</td>\n",
       "    </tr>\n",
       "    <tr>\n",
       "      <th>HalfBath</th>\n",
       "      <td>0.0</td>\n",
       "      <td>0.0</td>\n",
       "      <td>0.0</td>\n",
       "      <td>0.0</td>\n",
       "      <td>0.0</td>\n",
       "      <td>0.00</td>\n",
       "      <td>0.0</td>\n",
       "      <td>1.0</td>\n",
       "      <td>1.0</td>\n",
       "      <td>2.0</td>\n",
       "    </tr>\n",
       "    <tr>\n",
       "      <th>BedroomAbvGr</th>\n",
       "      <td>0.0</td>\n",
       "      <td>1.0</td>\n",
       "      <td>1.0</td>\n",
       "      <td>1.0</td>\n",
       "      <td>2.0</td>\n",
       "      <td>2.00</td>\n",
       "      <td>3.0</td>\n",
       "      <td>4.0</td>\n",
       "      <td>5.0</td>\n",
       "      <td>8.0</td>\n",
       "    </tr>\n",
       "    <tr>\n",
       "      <th>KitchenAbvGr</th>\n",
       "      <td>0.0</td>\n",
       "      <td>1.0</td>\n",
       "      <td>1.0</td>\n",
       "      <td>1.0</td>\n",
       "      <td>1.0</td>\n",
       "      <td>1.00</td>\n",
       "      <td>1.0</td>\n",
       "      <td>2.0</td>\n",
       "      <td>2.0</td>\n",
       "      <td>3.0</td>\n",
       "    </tr>\n",
       "    <tr>\n",
       "      <th>TotRmsAbvGrd</th>\n",
       "      <td>2.0</td>\n",
       "      <td>3.0</td>\n",
       "      <td>4.0</td>\n",
       "      <td>4.0</td>\n",
       "      <td>4.0</td>\n",
       "      <td>5.00</td>\n",
       "      <td>6.0</td>\n",
       "      <td>11.0</td>\n",
       "      <td>11.0</td>\n",
       "      <td>14.0</td>\n",
       "    </tr>\n",
       "    <tr>\n",
       "      <th>Fireplaces</th>\n",
       "      <td>0.0</td>\n",
       "      <td>0.0</td>\n",
       "      <td>0.0</td>\n",
       "      <td>0.0</td>\n",
       "      <td>0.0</td>\n",
       "      <td>0.00</td>\n",
       "      <td>1.0</td>\n",
       "      <td>2.0</td>\n",
       "      <td>2.0</td>\n",
       "      <td>3.0</td>\n",
       "    </tr>\n",
       "    <tr>\n",
       "      <th>GarageYrBlt</th>\n",
       "      <td>1900.0</td>\n",
       "      <td>1917.0</td>\n",
       "      <td>1920.0</td>\n",
       "      <td>1924.0</td>\n",
       "      <td>1930.0</td>\n",
       "      <td>1946.00</td>\n",
       "      <td>1984.0</td>\n",
       "      <td>2008.0</td>\n",
       "      <td>2009.0</td>\n",
       "      <td>2010.0</td>\n",
       "    </tr>\n",
       "    <tr>\n",
       "      <th>GarageCars</th>\n",
       "      <td>0.0</td>\n",
       "      <td>0.0</td>\n",
       "      <td>0.0</td>\n",
       "      <td>0.0</td>\n",
       "      <td>0.0</td>\n",
       "      <td>1.00</td>\n",
       "      <td>2.0</td>\n",
       "      <td>3.0</td>\n",
       "      <td>3.0</td>\n",
       "      <td>4.0</td>\n",
       "    </tr>\n",
       "    <tr>\n",
       "      <th>GarageArea</th>\n",
       "      <td>0.0</td>\n",
       "      <td>0.0</td>\n",
       "      <td>0.0</td>\n",
       "      <td>0.0</td>\n",
       "      <td>0.0</td>\n",
       "      <td>240.00</td>\n",
       "      <td>478.0</td>\n",
       "      <td>908.0</td>\n",
       "      <td>1004.5</td>\n",
       "      <td>1418.0</td>\n",
       "    </tr>\n",
       "    <tr>\n",
       "      <th>WoodDeckSF</th>\n",
       "      <td>0.0</td>\n",
       "      <td>0.0</td>\n",
       "      <td>0.0</td>\n",
       "      <td>0.0</td>\n",
       "      <td>0.0</td>\n",
       "      <td>0.00</td>\n",
       "      <td>0.0</td>\n",
       "      <td>431.0</td>\n",
       "      <td>506.0</td>\n",
       "      <td>857.0</td>\n",
       "    </tr>\n",
       "    <tr>\n",
       "      <th>OpenPorchSF</th>\n",
       "      <td>0.0</td>\n",
       "      <td>0.0</td>\n",
       "      <td>0.0</td>\n",
       "      <td>0.0</td>\n",
       "      <td>0.0</td>\n",
       "      <td>0.00</td>\n",
       "      <td>24.0</td>\n",
       "      <td>241.0</td>\n",
       "      <td>286.0</td>\n",
       "      <td>547.0</td>\n",
       "    </tr>\n",
       "    <tr>\n",
       "      <th>EnclosedPorch</th>\n",
       "      <td>0.0</td>\n",
       "      <td>0.0</td>\n",
       "      <td>0.0</td>\n",
       "      <td>0.0</td>\n",
       "      <td>0.0</td>\n",
       "      <td>0.00</td>\n",
       "      <td>0.0</td>\n",
       "      <td>236.0</td>\n",
       "      <td>261.5</td>\n",
       "      <td>552.0</td>\n",
       "    </tr>\n",
       "    <tr>\n",
       "      <th>3SsnPorch</th>\n",
       "      <td>0.0</td>\n",
       "      <td>0.0</td>\n",
       "      <td>0.0</td>\n",
       "      <td>0.0</td>\n",
       "      <td>0.0</td>\n",
       "      <td>0.00</td>\n",
       "      <td>0.0</td>\n",
       "      <td>0.0</td>\n",
       "      <td>168.0</td>\n",
       "      <td>508.0</td>\n",
       "    </tr>\n",
       "    <tr>\n",
       "      <th>ScreenPorch</th>\n",
       "      <td>0.0</td>\n",
       "      <td>0.0</td>\n",
       "      <td>0.0</td>\n",
       "      <td>0.0</td>\n",
       "      <td>0.0</td>\n",
       "      <td>0.00</td>\n",
       "      <td>0.0</td>\n",
       "      <td>224.0</td>\n",
       "      <td>268.5</td>\n",
       "      <td>480.0</td>\n",
       "    </tr>\n",
       "    <tr>\n",
       "      <th>PoolArea</th>\n",
       "      <td>0.0</td>\n",
       "      <td>0.0</td>\n",
       "      <td>0.0</td>\n",
       "      <td>0.0</td>\n",
       "      <td>0.0</td>\n",
       "      <td>0.00</td>\n",
       "      <td>0.0</td>\n",
       "      <td>0.0</td>\n",
       "      <td>0.0</td>\n",
       "      <td>738.0</td>\n",
       "    </tr>\n",
       "    <tr>\n",
       "      <th>MiscVal</th>\n",
       "      <td>0.0</td>\n",
       "      <td>0.0</td>\n",
       "      <td>0.0</td>\n",
       "      <td>0.0</td>\n",
       "      <td>0.0</td>\n",
       "      <td>0.00</td>\n",
       "      <td>0.0</td>\n",
       "      <td>500.0</td>\n",
       "      <td>700.0</td>\n",
       "      <td>15500.0</td>\n",
       "    </tr>\n",
       "    <tr>\n",
       "      <th>MoSold</th>\n",
       "      <td>1.0</td>\n",
       "      <td>1.0</td>\n",
       "      <td>1.0</td>\n",
       "      <td>1.0</td>\n",
       "      <td>2.0</td>\n",
       "      <td>3.00</td>\n",
       "      <td>6.0</td>\n",
       "      <td>12.0</td>\n",
       "      <td>12.0</td>\n",
       "      <td>12.0</td>\n",
       "    </tr>\n",
       "    <tr>\n",
       "      <th>YrSold</th>\n",
       "      <td>2006.0</td>\n",
       "      <td>2006.0</td>\n",
       "      <td>2006.0</td>\n",
       "      <td>2006.0</td>\n",
       "      <td>2006.0</td>\n",
       "      <td>2006.00</td>\n",
       "      <td>2008.0</td>\n",
       "      <td>2010.0</td>\n",
       "      <td>2010.0</td>\n",
       "      <td>2010.0</td>\n",
       "    </tr>\n",
       "    <tr>\n",
       "      <th>SalePrice</th>\n",
       "      <td>34900.0</td>\n",
       "      <td>61691.5</td>\n",
       "      <td>79000.0</td>\n",
       "      <td>82000.0</td>\n",
       "      <td>88000.0</td>\n",
       "      <td>105760.00</td>\n",
       "      <td>162500.0</td>\n",
       "      <td>394617.0</td>\n",
       "      <td>439390.0</td>\n",
       "      <td>755000.0</td>\n",
       "    </tr>\n",
       "  </tbody>\n",
       "</table>\n",
       "</div>"
      ],
      "text/plain": [
       "                   min       1%       2%       3%       5%       9.7%  \\\n",
       "MSSubClass        20.0     20.0     20.0     20.0     20.0      20.00   \n",
       "LotFrontage       21.0     21.0     24.0     30.0     36.0      48.00   \n",
       "LotArea         1300.0   1680.0   2117.0   2522.0   3273.0    4974.80   \n",
       "OverallQual        1.0      3.0      4.0      4.0      4.0       4.65   \n",
       "OverallCond        1.0      3.0      3.0      4.0      4.0       5.00   \n",
       "YearBuilt       1872.0   1899.0   1908.0   1910.0   1916.0    1924.00   \n",
       "YearRemodAdd    1950.0   1950.0   1950.0   1950.0   1950.0    1950.00   \n",
       "MasVnrArea         0.0      0.0      0.0      0.0      0.0       0.00   \n",
       "BsmtFinSF1         0.0      0.0      0.0      0.0      0.0       0.00   \n",
       "BsmtFinSF2         0.0      0.0      0.0      0.0      0.0       0.00   \n",
       "BsmtUnfSF          0.0      0.0      0.0      0.0      0.0      64.00   \n",
       "TotalBsmtSF        0.0      0.0      0.0    304.5    520.0     630.00   \n",
       "1stFlrSF         334.0    520.0    581.0    625.0    672.5     755.65   \n",
       "2ndFlrSF           0.0      0.0      0.0      0.0      0.0       0.00   \n",
       "LowQualFinSF       0.0      0.0      0.0      0.0      0.0       0.00   \n",
       "GrLivArea        334.0    692.0    768.0    796.0    848.0     904.00   \n",
       "BsmtFullBath       0.0      0.0      0.0      0.0      0.0       0.00   \n",
       "BsmtHalfBath       0.0      0.0      0.0      0.0      0.0       0.00   \n",
       "FullBath           0.0      1.0      1.0      1.0      1.0       1.00   \n",
       "HalfBath           0.0      0.0      0.0      0.0      0.0       0.00   \n",
       "BedroomAbvGr       0.0      1.0      1.0      1.0      2.0       2.00   \n",
       "KitchenAbvGr       0.0      1.0      1.0      1.0      1.0       1.00   \n",
       "TotRmsAbvGrd       2.0      3.0      4.0      4.0      4.0       5.00   \n",
       "Fireplaces         0.0      0.0      0.0      0.0      0.0       0.00   \n",
       "GarageYrBlt     1900.0   1917.0   1920.0   1924.0   1930.0    1946.00   \n",
       "GarageCars         0.0      0.0      0.0      0.0      0.0       1.00   \n",
       "GarageArea         0.0      0.0      0.0      0.0      0.0     240.00   \n",
       "WoodDeckSF         0.0      0.0      0.0      0.0      0.0       0.00   \n",
       "OpenPorchSF        0.0      0.0      0.0      0.0      0.0       0.00   \n",
       "EnclosedPorch      0.0      0.0      0.0      0.0      0.0       0.00   \n",
       "3SsnPorch          0.0      0.0      0.0      0.0      0.0       0.00   \n",
       "ScreenPorch        0.0      0.0      0.0      0.0      0.0       0.00   \n",
       "PoolArea           0.0      0.0      0.0      0.0      0.0       0.00   \n",
       "MiscVal            0.0      0.0      0.0      0.0      0.0       0.00   \n",
       "MoSold             1.0      1.0      1.0      1.0      2.0       3.00   \n",
       "YrSold          2006.0   2006.0   2006.0   2006.0   2006.0    2006.00   \n",
       "SalePrice      34900.0  61691.5  79000.0  82000.0  88000.0  105760.00   \n",
       "\n",
       "                    50%       98%       99%       max  \n",
       "MSSubClass         50.0     190.0     190.0     190.0  \n",
       "LotFrontage        69.0     121.0     137.5     313.0  \n",
       "LotArea          9477.0   25095.0   37802.0  215245.0  \n",
       "OverallQual         6.0       9.0      10.0      10.0  \n",
       "OverallCond         5.0       8.0       9.0       9.0  \n",
       "YearBuilt        1972.0    2008.0    2009.0    2010.0  \n",
       "YearRemodAdd     1993.0    2008.0    2009.0    2010.0  \n",
       "MasVnrArea          0.0     651.0     792.0    1600.0  \n",
       "BsmtFinSF1        381.0    1443.0    1572.5    5644.0  \n",
       "BsmtFinSF2          0.0     661.0     832.0    1474.0  \n",
       "BsmtUnfSF         479.0    1680.0    1797.5    2336.0  \n",
       "TotalBsmtSF       991.0    1992.0    2155.5    6110.0  \n",
       "1stFlrSF         1086.0    2069.0    2212.0    4692.0  \n",
       "2ndFlrSF            0.0    1320.0    1420.0    2065.0  \n",
       "LowQualFinSF        0.0       0.0     360.0     572.0  \n",
       "GrLivArea        1464.0    2784.0    3126.0    5642.0  \n",
       "BsmtFullBath        0.0       1.0       2.0       3.0  \n",
       "BsmtHalfBath        0.0       1.0       1.0       2.0  \n",
       "FullBath            2.0       3.0       3.0       3.0  \n",
       "HalfBath            0.0       1.0       1.0       2.0  \n",
       "BedroomAbvGr        3.0       4.0       5.0       8.0  \n",
       "KitchenAbvGr        1.0       2.0       2.0       3.0  \n",
       "TotRmsAbvGrd        6.0      11.0      11.0      14.0  \n",
       "Fireplaces          1.0       2.0       2.0       3.0  \n",
       "GarageYrBlt      1984.0    2008.0    2009.0    2010.0  \n",
       "GarageCars          2.0       3.0       3.0       4.0  \n",
       "GarageArea        478.0     908.0    1004.5    1418.0  \n",
       "WoodDeckSF          0.0     431.0     506.0     857.0  \n",
       "OpenPorchSF        24.0     241.0     286.0     547.0  \n",
       "EnclosedPorch       0.0     236.0     261.5     552.0  \n",
       "3SsnPorch           0.0       0.0     168.0     508.0  \n",
       "ScreenPorch         0.0     224.0     268.5     480.0  \n",
       "PoolArea            0.0       0.0       0.0     738.0  \n",
       "MiscVal             0.0     500.0     700.0   15500.0  \n",
       "MoSold              6.0      12.0      12.0      12.0  \n",
       "YrSold           2008.0    2010.0    2010.0    2010.0  \n",
       "SalePrice      162500.0  394617.0  439390.0  755000.0  "
      ]
     },
     "execution_count": 134,
     "metadata": {},
     "output_type": "execute_result"
    }
   ],
   "source": [
    "a = df.describe(percentiles=[0.01,0.02,0.03,0.05,0.097,0.98,0.99]).T  # T = transpose\n",
    "a = a.iloc[:,3:]\n",
    "a"
   ]
  },
  {
   "cell_type": "code",
   "execution_count": 135,
   "id": "e8e7ed58",
   "metadata": {},
   "outputs": [],
   "source": [
    "# 10-12"
   ]
  },
  {
   "cell_type": "code",
   "execution_count": 136,
   "id": "7f5dd977",
   "metadata": {},
   "outputs": [
    {
     "name": "stdout",
     "output_type": "stream",
     "text": [
      "(15, 74)\n",
      "(15, 74)\n",
      "(7, 74)\n"
     ]
    }
   ],
   "source": [
    "print(df[df['SalePrice']<61691.5].shape)\n",
    "print(df[df['GrLivArea']<692].shape)\n",
    "print(df[df['LotArea']<1680.0].shape)\n",
    "\n",
    "# df['SalePrice'] = np.where(df['SalePrice']<61691.5,61691.5,df['SalePrice'])"
   ]
  },
  {
   "cell_type": "code",
   "execution_count": 137,
   "id": "a9e7dfff",
   "metadata": {},
   "outputs": [
    {
     "data": {
      "text/plain": [
       "(1451, 74)"
      ]
     },
     "execution_count": 137,
     "metadata": {},
     "output_type": "execute_result"
    }
   ],
   "source": [
    "df.shape"
   ]
  },
  {
   "cell_type": "code",
   "execution_count": 138,
   "id": "4294a031",
   "metadata": {},
   "outputs": [],
   "source": [
    "cols_left_skewed = ['LotArea','1stFlrSF','GrLivArea','SalePrice']\n",
    "\n",
    "def ot_left_skewed(x):\n",
    "    x = x.clip(lower=x.quantile(0.01))\n",
    "    return x "
   ]
  },
  {
   "cell_type": "code",
   "execution_count": 139,
   "id": "342b139d",
   "metadata": {},
   "outputs": [
    {
     "data": {
      "text/plain": [
       "Index(['MSSubClass', 'LotFrontage', 'LotArea', 'OverallQual', 'OverallCond',\n",
       "       'YearBuilt', 'YearRemodAdd', 'MasVnrArea', 'BsmtFinSF1', 'BsmtFinSF2',\n",
       "       'BsmtUnfSF', 'TotalBsmtSF', '1stFlrSF', '2ndFlrSF', 'LowQualFinSF',\n",
       "       'GrLivArea', 'BsmtFullBath', 'BsmtHalfBath', 'FullBath', 'HalfBath',\n",
       "       'BedroomAbvGr', 'KitchenAbvGr', 'TotRmsAbvGrd', 'Fireplaces',\n",
       "       'GarageYrBlt', 'GarageCars', 'GarageArea', 'WoodDeckSF', 'OpenPorchSF',\n",
       "       'EnclosedPorch', '3SsnPorch', 'ScreenPorch', 'PoolArea', 'MiscVal',\n",
       "       'MoSold', 'YrSold', 'SalePrice'],\n",
       "      dtype='object')"
      ]
     },
     "execution_count": 139,
     "metadata": {},
     "output_type": "execute_result"
    }
   ],
   "source": [
    "a.index"
   ]
  },
  {
   "cell_type": "code",
   "execution_count": 140,
   "id": "bc9d3670",
   "metadata": {},
   "outputs": [],
   "source": [
    "cols_right_skewed = ['LotFrontage','LotArea','MasVnrArea', 'BsmtFinSF1', \n",
    "                     'BsmtFinSF2','BsmtUnfSF', 'TotalBsmtSF', '1stFlrSF', '2ndFlrSF', \n",
    "                     'LowQualFinSF','GrLivArea','GarageArea', 'WoodDeckSF', 'OpenPorchSF',\n",
    "                     'EnclosedPorch', '3SsnPorch', 'ScreenPorch','MiscVal','SalePrice']\n",
    "\n",
    "def ot_right_skewed(x):\n",
    "    x = x.clip(upper=x.quantile(0.99))\n",
    "    return x "
   ]
  },
  {
   "cell_type": "code",
   "execution_count": 141,
   "id": "58488085",
   "metadata": {},
   "outputs": [],
   "source": [
    "df1 = df.copy()"
   ]
  },
  {
   "cell_type": "code",
   "execution_count": 142,
   "id": "440e23f3",
   "metadata": {},
   "outputs": [],
   "source": [
    "df[cols_left_skewed] = df[cols_left_skewed].apply(ot_left_skewed)\n",
    "df[cols_right_skewed] = df[cols_right_skewed].apply(ot_right_skewed)"
   ]
  },
  {
   "cell_type": "code",
   "execution_count": 143,
   "id": "a603ab35",
   "metadata": {},
   "outputs": [
    {
     "data": {
      "text/html": [
       "<div>\n",
       "<style scoped>\n",
       "    .dataframe tbody tr th:only-of-type {\n",
       "        vertical-align: middle;\n",
       "    }\n",
       "\n",
       "    .dataframe tbody tr th {\n",
       "        vertical-align: top;\n",
       "    }\n",
       "\n",
       "    .dataframe thead th {\n",
       "        text-align: right;\n",
       "    }\n",
       "</style>\n",
       "<table border=\"1\" class=\"dataframe\">\n",
       "  <thead>\n",
       "    <tr style=\"text-align: right;\">\n",
       "      <th></th>\n",
       "      <th>min</th>\n",
       "      <th>1%</th>\n",
       "      <th>2%</th>\n",
       "      <th>3%</th>\n",
       "      <th>5%</th>\n",
       "      <th>9.7%</th>\n",
       "      <th>50%</th>\n",
       "      <th>98%</th>\n",
       "      <th>99%</th>\n",
       "      <th>max</th>\n",
       "    </tr>\n",
       "  </thead>\n",
       "  <tbody>\n",
       "    <tr>\n",
       "      <th>MSSubClass</th>\n",
       "      <td>20.0</td>\n",
       "      <td>20.00</td>\n",
       "      <td>20.0</td>\n",
       "      <td>20.0</td>\n",
       "      <td>20.0</td>\n",
       "      <td>20.00</td>\n",
       "      <td>50.0</td>\n",
       "      <td>190.0</td>\n",
       "      <td>190.00</td>\n",
       "      <td>190.0</td>\n",
       "    </tr>\n",
       "    <tr>\n",
       "      <th>LotFrontage</th>\n",
       "      <td>21.0</td>\n",
       "      <td>21.00</td>\n",
       "      <td>24.0</td>\n",
       "      <td>30.0</td>\n",
       "      <td>36.0</td>\n",
       "      <td>48.00</td>\n",
       "      <td>69.0</td>\n",
       "      <td>121.0</td>\n",
       "      <td>137.25</td>\n",
       "      <td>137.5</td>\n",
       "    </tr>\n",
       "    <tr>\n",
       "      <th>LotArea</th>\n",
       "      <td>1680.0</td>\n",
       "      <td>1680.00</td>\n",
       "      <td>2117.0</td>\n",
       "      <td>2522.0</td>\n",
       "      <td>3273.0</td>\n",
       "      <td>4974.80</td>\n",
       "      <td>9477.0</td>\n",
       "      <td>25095.0</td>\n",
       "      <td>37151.00</td>\n",
       "      <td>37802.0</td>\n",
       "    </tr>\n",
       "    <tr>\n",
       "      <th>OverallQual</th>\n",
       "      <td>1.0</td>\n",
       "      <td>3.00</td>\n",
       "      <td>4.0</td>\n",
       "      <td>4.0</td>\n",
       "      <td>4.0</td>\n",
       "      <td>4.65</td>\n",
       "      <td>6.0</td>\n",
       "      <td>9.0</td>\n",
       "      <td>10.00</td>\n",
       "      <td>10.0</td>\n",
       "    </tr>\n",
       "    <tr>\n",
       "      <th>OverallCond</th>\n",
       "      <td>1.0</td>\n",
       "      <td>3.00</td>\n",
       "      <td>3.0</td>\n",
       "      <td>4.0</td>\n",
       "      <td>4.0</td>\n",
       "      <td>5.00</td>\n",
       "      <td>5.0</td>\n",
       "      <td>8.0</td>\n",
       "      <td>9.00</td>\n",
       "      <td>9.0</td>\n",
       "    </tr>\n",
       "    <tr>\n",
       "      <th>YearBuilt</th>\n",
       "      <td>1872.0</td>\n",
       "      <td>1899.00</td>\n",
       "      <td>1908.0</td>\n",
       "      <td>1910.0</td>\n",
       "      <td>1916.0</td>\n",
       "      <td>1924.00</td>\n",
       "      <td>1972.0</td>\n",
       "      <td>2008.0</td>\n",
       "      <td>2009.00</td>\n",
       "      <td>2010.0</td>\n",
       "    </tr>\n",
       "    <tr>\n",
       "      <th>YearRemodAdd</th>\n",
       "      <td>1950.0</td>\n",
       "      <td>1950.00</td>\n",
       "      <td>1950.0</td>\n",
       "      <td>1950.0</td>\n",
       "      <td>1950.0</td>\n",
       "      <td>1950.00</td>\n",
       "      <td>1993.0</td>\n",
       "      <td>2008.0</td>\n",
       "      <td>2009.00</td>\n",
       "      <td>2010.0</td>\n",
       "    </tr>\n",
       "    <tr>\n",
       "      <th>MasVnrArea</th>\n",
       "      <td>0.0</td>\n",
       "      <td>0.00</td>\n",
       "      <td>0.0</td>\n",
       "      <td>0.0</td>\n",
       "      <td>0.0</td>\n",
       "      <td>0.00</td>\n",
       "      <td>0.0</td>\n",
       "      <td>651.0</td>\n",
       "      <td>790.00</td>\n",
       "      <td>792.0</td>\n",
       "    </tr>\n",
       "    <tr>\n",
       "      <th>BsmtFinSF1</th>\n",
       "      <td>0.0</td>\n",
       "      <td>0.00</td>\n",
       "      <td>0.0</td>\n",
       "      <td>0.0</td>\n",
       "      <td>0.0</td>\n",
       "      <td>0.00</td>\n",
       "      <td>381.0</td>\n",
       "      <td>1443.0</td>\n",
       "      <td>1572.25</td>\n",
       "      <td>1572.5</td>\n",
       "    </tr>\n",
       "    <tr>\n",
       "      <th>BsmtFinSF2</th>\n",
       "      <td>0.0</td>\n",
       "      <td>0.00</td>\n",
       "      <td>0.0</td>\n",
       "      <td>0.0</td>\n",
       "      <td>0.0</td>\n",
       "      <td>0.00</td>\n",
       "      <td>0.0</td>\n",
       "      <td>661.0</td>\n",
       "      <td>827.50</td>\n",
       "      <td>832.0</td>\n",
       "    </tr>\n",
       "    <tr>\n",
       "      <th>BsmtUnfSF</th>\n",
       "      <td>0.0</td>\n",
       "      <td>0.00</td>\n",
       "      <td>0.0</td>\n",
       "      <td>0.0</td>\n",
       "      <td>0.0</td>\n",
       "      <td>64.00</td>\n",
       "      <td>479.0</td>\n",
       "      <td>1680.0</td>\n",
       "      <td>1796.25</td>\n",
       "      <td>1797.5</td>\n",
       "    </tr>\n",
       "    <tr>\n",
       "      <th>TotalBsmtSF</th>\n",
       "      <td>0.0</td>\n",
       "      <td>0.00</td>\n",
       "      <td>0.0</td>\n",
       "      <td>304.5</td>\n",
       "      <td>520.0</td>\n",
       "      <td>630.00</td>\n",
       "      <td>991.0</td>\n",
       "      <td>1992.0</td>\n",
       "      <td>2154.25</td>\n",
       "      <td>2155.5</td>\n",
       "    </tr>\n",
       "    <tr>\n",
       "      <th>1stFlrSF</th>\n",
       "      <td>520.0</td>\n",
       "      <td>520.00</td>\n",
       "      <td>581.0</td>\n",
       "      <td>625.0</td>\n",
       "      <td>672.5</td>\n",
       "      <td>755.65</td>\n",
       "      <td>1086.0</td>\n",
       "      <td>2069.0</td>\n",
       "      <td>2209.50</td>\n",
       "      <td>2212.0</td>\n",
       "    </tr>\n",
       "    <tr>\n",
       "      <th>2ndFlrSF</th>\n",
       "      <td>0.0</td>\n",
       "      <td>0.00</td>\n",
       "      <td>0.0</td>\n",
       "      <td>0.0</td>\n",
       "      <td>0.0</td>\n",
       "      <td>0.00</td>\n",
       "      <td>0.0</td>\n",
       "      <td>1320.0</td>\n",
       "      <td>1417.00</td>\n",
       "      <td>1420.0</td>\n",
       "    </tr>\n",
       "    <tr>\n",
       "      <th>LowQualFinSF</th>\n",
       "      <td>0.0</td>\n",
       "      <td>0.00</td>\n",
       "      <td>0.0</td>\n",
       "      <td>0.0</td>\n",
       "      <td>0.0</td>\n",
       "      <td>0.00</td>\n",
       "      <td>0.0</td>\n",
       "      <td>0.0</td>\n",
       "      <td>360.00</td>\n",
       "      <td>360.0</td>\n",
       "    </tr>\n",
       "    <tr>\n",
       "      <th>GrLivArea</th>\n",
       "      <td>692.0</td>\n",
       "      <td>692.50</td>\n",
       "      <td>768.0</td>\n",
       "      <td>796.0</td>\n",
       "      <td>848.0</td>\n",
       "      <td>904.00</td>\n",
       "      <td>1464.0</td>\n",
       "      <td>2784.0</td>\n",
       "      <td>3119.00</td>\n",
       "      <td>3126.0</td>\n",
       "    </tr>\n",
       "    <tr>\n",
       "      <th>BsmtFullBath</th>\n",
       "      <td>0.0</td>\n",
       "      <td>0.00</td>\n",
       "      <td>0.0</td>\n",
       "      <td>0.0</td>\n",
       "      <td>0.0</td>\n",
       "      <td>0.00</td>\n",
       "      <td>0.0</td>\n",
       "      <td>1.0</td>\n",
       "      <td>2.00</td>\n",
       "      <td>3.0</td>\n",
       "    </tr>\n",
       "    <tr>\n",
       "      <th>BsmtHalfBath</th>\n",
       "      <td>0.0</td>\n",
       "      <td>0.00</td>\n",
       "      <td>0.0</td>\n",
       "      <td>0.0</td>\n",
       "      <td>0.0</td>\n",
       "      <td>0.00</td>\n",
       "      <td>0.0</td>\n",
       "      <td>1.0</td>\n",
       "      <td>1.00</td>\n",
       "      <td>2.0</td>\n",
       "    </tr>\n",
       "    <tr>\n",
       "      <th>FullBath</th>\n",
       "      <td>0.0</td>\n",
       "      <td>1.00</td>\n",
       "      <td>1.0</td>\n",
       "      <td>1.0</td>\n",
       "      <td>1.0</td>\n",
       "      <td>1.00</td>\n",
       "      <td>2.0</td>\n",
       "      <td>3.0</td>\n",
       "      <td>3.00</td>\n",
       "      <td>3.0</td>\n",
       "    </tr>\n",
       "    <tr>\n",
       "      <th>HalfBath</th>\n",
       "      <td>0.0</td>\n",
       "      <td>0.00</td>\n",
       "      <td>0.0</td>\n",
       "      <td>0.0</td>\n",
       "      <td>0.0</td>\n",
       "      <td>0.00</td>\n",
       "      <td>0.0</td>\n",
       "      <td>1.0</td>\n",
       "      <td>1.00</td>\n",
       "      <td>2.0</td>\n",
       "    </tr>\n",
       "    <tr>\n",
       "      <th>BedroomAbvGr</th>\n",
       "      <td>0.0</td>\n",
       "      <td>1.00</td>\n",
       "      <td>1.0</td>\n",
       "      <td>1.0</td>\n",
       "      <td>2.0</td>\n",
       "      <td>2.00</td>\n",
       "      <td>3.0</td>\n",
       "      <td>4.0</td>\n",
       "      <td>5.00</td>\n",
       "      <td>8.0</td>\n",
       "    </tr>\n",
       "    <tr>\n",
       "      <th>KitchenAbvGr</th>\n",
       "      <td>0.0</td>\n",
       "      <td>1.00</td>\n",
       "      <td>1.0</td>\n",
       "      <td>1.0</td>\n",
       "      <td>1.0</td>\n",
       "      <td>1.00</td>\n",
       "      <td>1.0</td>\n",
       "      <td>2.0</td>\n",
       "      <td>2.00</td>\n",
       "      <td>3.0</td>\n",
       "    </tr>\n",
       "    <tr>\n",
       "      <th>TotRmsAbvGrd</th>\n",
       "      <td>2.0</td>\n",
       "      <td>3.00</td>\n",
       "      <td>4.0</td>\n",
       "      <td>4.0</td>\n",
       "      <td>4.0</td>\n",
       "      <td>5.00</td>\n",
       "      <td>6.0</td>\n",
       "      <td>11.0</td>\n",
       "      <td>11.00</td>\n",
       "      <td>14.0</td>\n",
       "    </tr>\n",
       "    <tr>\n",
       "      <th>Fireplaces</th>\n",
       "      <td>0.0</td>\n",
       "      <td>0.00</td>\n",
       "      <td>0.0</td>\n",
       "      <td>0.0</td>\n",
       "      <td>0.0</td>\n",
       "      <td>0.00</td>\n",
       "      <td>1.0</td>\n",
       "      <td>2.0</td>\n",
       "      <td>2.00</td>\n",
       "      <td>3.0</td>\n",
       "    </tr>\n",
       "    <tr>\n",
       "      <th>GarageYrBlt</th>\n",
       "      <td>1900.0</td>\n",
       "      <td>1917.00</td>\n",
       "      <td>1920.0</td>\n",
       "      <td>1924.0</td>\n",
       "      <td>1930.0</td>\n",
       "      <td>1946.00</td>\n",
       "      <td>1984.0</td>\n",
       "      <td>2008.0</td>\n",
       "      <td>2009.00</td>\n",
       "      <td>2010.0</td>\n",
       "    </tr>\n",
       "    <tr>\n",
       "      <th>GarageCars</th>\n",
       "      <td>0.0</td>\n",
       "      <td>0.00</td>\n",
       "      <td>0.0</td>\n",
       "      <td>0.0</td>\n",
       "      <td>0.0</td>\n",
       "      <td>1.00</td>\n",
       "      <td>2.0</td>\n",
       "      <td>3.0</td>\n",
       "      <td>3.00</td>\n",
       "      <td>4.0</td>\n",
       "    </tr>\n",
       "    <tr>\n",
       "      <th>GarageArea</th>\n",
       "      <td>0.0</td>\n",
       "      <td>0.00</td>\n",
       "      <td>0.0</td>\n",
       "      <td>0.0</td>\n",
       "      <td>0.0</td>\n",
       "      <td>240.00</td>\n",
       "      <td>478.0</td>\n",
       "      <td>908.0</td>\n",
       "      <td>999.75</td>\n",
       "      <td>1004.5</td>\n",
       "    </tr>\n",
       "    <tr>\n",
       "      <th>WoodDeckSF</th>\n",
       "      <td>0.0</td>\n",
       "      <td>0.00</td>\n",
       "      <td>0.0</td>\n",
       "      <td>0.0</td>\n",
       "      <td>0.0</td>\n",
       "      <td>0.00</td>\n",
       "      <td>0.0</td>\n",
       "      <td>431.0</td>\n",
       "      <td>504.50</td>\n",
       "      <td>506.0</td>\n",
       "    </tr>\n",
       "    <tr>\n",
       "      <th>OpenPorchSF</th>\n",
       "      <td>0.0</td>\n",
       "      <td>0.00</td>\n",
       "      <td>0.0</td>\n",
       "      <td>0.0</td>\n",
       "      <td>0.0</td>\n",
       "      <td>0.00</td>\n",
       "      <td>24.0</td>\n",
       "      <td>241.0</td>\n",
       "      <td>285.50</td>\n",
       "      <td>286.0</td>\n",
       "    </tr>\n",
       "    <tr>\n",
       "      <th>EnclosedPorch</th>\n",
       "      <td>0.0</td>\n",
       "      <td>0.00</td>\n",
       "      <td>0.0</td>\n",
       "      <td>0.0</td>\n",
       "      <td>0.0</td>\n",
       "      <td>0.00</td>\n",
       "      <td>0.0</td>\n",
       "      <td>236.0</td>\n",
       "      <td>260.25</td>\n",
       "      <td>261.5</td>\n",
       "    </tr>\n",
       "    <tr>\n",
       "      <th>3SsnPorch</th>\n",
       "      <td>0.0</td>\n",
       "      <td>0.00</td>\n",
       "      <td>0.0</td>\n",
       "      <td>0.0</td>\n",
       "      <td>0.0</td>\n",
       "      <td>0.00</td>\n",
       "      <td>0.0</td>\n",
       "      <td>0.0</td>\n",
       "      <td>168.00</td>\n",
       "      <td>168.0</td>\n",
       "    </tr>\n",
       "    <tr>\n",
       "      <th>ScreenPorch</th>\n",
       "      <td>0.0</td>\n",
       "      <td>0.00</td>\n",
       "      <td>0.0</td>\n",
       "      <td>0.0</td>\n",
       "      <td>0.0</td>\n",
       "      <td>0.00</td>\n",
       "      <td>0.0</td>\n",
       "      <td>224.0</td>\n",
       "      <td>267.25</td>\n",
       "      <td>268.5</td>\n",
       "    </tr>\n",
       "    <tr>\n",
       "      <th>PoolArea</th>\n",
       "      <td>0.0</td>\n",
       "      <td>0.00</td>\n",
       "      <td>0.0</td>\n",
       "      <td>0.0</td>\n",
       "      <td>0.0</td>\n",
       "      <td>0.00</td>\n",
       "      <td>0.0</td>\n",
       "      <td>0.0</td>\n",
       "      <td>0.00</td>\n",
       "      <td>738.0</td>\n",
       "    </tr>\n",
       "    <tr>\n",
       "      <th>MiscVal</th>\n",
       "      <td>0.0</td>\n",
       "      <td>0.00</td>\n",
       "      <td>0.0</td>\n",
       "      <td>0.0</td>\n",
       "      <td>0.0</td>\n",
       "      <td>0.00</td>\n",
       "      <td>0.0</td>\n",
       "      <td>500.0</td>\n",
       "      <td>700.00</td>\n",
       "      <td>700.0</td>\n",
       "    </tr>\n",
       "    <tr>\n",
       "      <th>MoSold</th>\n",
       "      <td>1.0</td>\n",
       "      <td>1.00</td>\n",
       "      <td>1.0</td>\n",
       "      <td>1.0</td>\n",
       "      <td>2.0</td>\n",
       "      <td>3.00</td>\n",
       "      <td>6.0</td>\n",
       "      <td>12.0</td>\n",
       "      <td>12.00</td>\n",
       "      <td>12.0</td>\n",
       "    </tr>\n",
       "    <tr>\n",
       "      <th>YrSold</th>\n",
       "      <td>2006.0</td>\n",
       "      <td>2006.00</td>\n",
       "      <td>2006.0</td>\n",
       "      <td>2006.0</td>\n",
       "      <td>2006.0</td>\n",
       "      <td>2006.00</td>\n",
       "      <td>2008.0</td>\n",
       "      <td>2010.0</td>\n",
       "      <td>2010.00</td>\n",
       "      <td>2010.0</td>\n",
       "    </tr>\n",
       "    <tr>\n",
       "      <th>SalePrice</th>\n",
       "      <td>61691.5</td>\n",
       "      <td>62037.25</td>\n",
       "      <td>79000.0</td>\n",
       "      <td>82000.0</td>\n",
       "      <td>88000.0</td>\n",
       "      <td>105760.00</td>\n",
       "      <td>162500.0</td>\n",
       "      <td>394617.0</td>\n",
       "      <td>439085.00</td>\n",
       "      <td>439390.0</td>\n",
       "    </tr>\n",
       "  </tbody>\n",
       "</table>\n",
       "</div>"
      ],
      "text/plain": [
       "                   min        1%       2%       3%       5%       9.7%  \\\n",
       "MSSubClass        20.0     20.00     20.0     20.0     20.0      20.00   \n",
       "LotFrontage       21.0     21.00     24.0     30.0     36.0      48.00   \n",
       "LotArea         1680.0   1680.00   2117.0   2522.0   3273.0    4974.80   \n",
       "OverallQual        1.0      3.00      4.0      4.0      4.0       4.65   \n",
       "OverallCond        1.0      3.00      3.0      4.0      4.0       5.00   \n",
       "YearBuilt       1872.0   1899.00   1908.0   1910.0   1916.0    1924.00   \n",
       "YearRemodAdd    1950.0   1950.00   1950.0   1950.0   1950.0    1950.00   \n",
       "MasVnrArea         0.0      0.00      0.0      0.0      0.0       0.00   \n",
       "BsmtFinSF1         0.0      0.00      0.0      0.0      0.0       0.00   \n",
       "BsmtFinSF2         0.0      0.00      0.0      0.0      0.0       0.00   \n",
       "BsmtUnfSF          0.0      0.00      0.0      0.0      0.0      64.00   \n",
       "TotalBsmtSF        0.0      0.00      0.0    304.5    520.0     630.00   \n",
       "1stFlrSF         520.0    520.00    581.0    625.0    672.5     755.65   \n",
       "2ndFlrSF           0.0      0.00      0.0      0.0      0.0       0.00   \n",
       "LowQualFinSF       0.0      0.00      0.0      0.0      0.0       0.00   \n",
       "GrLivArea        692.0    692.50    768.0    796.0    848.0     904.00   \n",
       "BsmtFullBath       0.0      0.00      0.0      0.0      0.0       0.00   \n",
       "BsmtHalfBath       0.0      0.00      0.0      0.0      0.0       0.00   \n",
       "FullBath           0.0      1.00      1.0      1.0      1.0       1.00   \n",
       "HalfBath           0.0      0.00      0.0      0.0      0.0       0.00   \n",
       "BedroomAbvGr       0.0      1.00      1.0      1.0      2.0       2.00   \n",
       "KitchenAbvGr       0.0      1.00      1.0      1.0      1.0       1.00   \n",
       "TotRmsAbvGrd       2.0      3.00      4.0      4.0      4.0       5.00   \n",
       "Fireplaces         0.0      0.00      0.0      0.0      0.0       0.00   \n",
       "GarageYrBlt     1900.0   1917.00   1920.0   1924.0   1930.0    1946.00   \n",
       "GarageCars         0.0      0.00      0.0      0.0      0.0       1.00   \n",
       "GarageArea         0.0      0.00      0.0      0.0      0.0     240.00   \n",
       "WoodDeckSF         0.0      0.00      0.0      0.0      0.0       0.00   \n",
       "OpenPorchSF        0.0      0.00      0.0      0.0      0.0       0.00   \n",
       "EnclosedPorch      0.0      0.00      0.0      0.0      0.0       0.00   \n",
       "3SsnPorch          0.0      0.00      0.0      0.0      0.0       0.00   \n",
       "ScreenPorch        0.0      0.00      0.0      0.0      0.0       0.00   \n",
       "PoolArea           0.0      0.00      0.0      0.0      0.0       0.00   \n",
       "MiscVal            0.0      0.00      0.0      0.0      0.0       0.00   \n",
       "MoSold             1.0      1.00      1.0      1.0      2.0       3.00   \n",
       "YrSold          2006.0   2006.00   2006.0   2006.0   2006.0    2006.00   \n",
       "SalePrice      61691.5  62037.25  79000.0  82000.0  88000.0  105760.00   \n",
       "\n",
       "                    50%       98%        99%       max  \n",
       "MSSubClass         50.0     190.0     190.00     190.0  \n",
       "LotFrontage        69.0     121.0     137.25     137.5  \n",
       "LotArea          9477.0   25095.0   37151.00   37802.0  \n",
       "OverallQual         6.0       9.0      10.00      10.0  \n",
       "OverallCond         5.0       8.0       9.00       9.0  \n",
       "YearBuilt        1972.0    2008.0    2009.00    2010.0  \n",
       "YearRemodAdd     1993.0    2008.0    2009.00    2010.0  \n",
       "MasVnrArea          0.0     651.0     790.00     792.0  \n",
       "BsmtFinSF1        381.0    1443.0    1572.25    1572.5  \n",
       "BsmtFinSF2          0.0     661.0     827.50     832.0  \n",
       "BsmtUnfSF         479.0    1680.0    1796.25    1797.5  \n",
       "TotalBsmtSF       991.0    1992.0    2154.25    2155.5  \n",
       "1stFlrSF         1086.0    2069.0    2209.50    2212.0  \n",
       "2ndFlrSF            0.0    1320.0    1417.00    1420.0  \n",
       "LowQualFinSF        0.0       0.0     360.00     360.0  \n",
       "GrLivArea        1464.0    2784.0    3119.00    3126.0  \n",
       "BsmtFullBath        0.0       1.0       2.00       3.0  \n",
       "BsmtHalfBath        0.0       1.0       1.00       2.0  \n",
       "FullBath            2.0       3.0       3.00       3.0  \n",
       "HalfBath            0.0       1.0       1.00       2.0  \n",
       "BedroomAbvGr        3.0       4.0       5.00       8.0  \n",
       "KitchenAbvGr        1.0       2.0       2.00       3.0  \n",
       "TotRmsAbvGrd        6.0      11.0      11.00      14.0  \n",
       "Fireplaces          1.0       2.0       2.00       3.0  \n",
       "GarageYrBlt      1984.0    2008.0    2009.00    2010.0  \n",
       "GarageCars          2.0       3.0       3.00       4.0  \n",
       "GarageArea        478.0     908.0     999.75    1004.5  \n",
       "WoodDeckSF          0.0     431.0     504.50     506.0  \n",
       "OpenPorchSF        24.0     241.0     285.50     286.0  \n",
       "EnclosedPorch       0.0     236.0     260.25     261.5  \n",
       "3SsnPorch           0.0       0.0     168.00     168.0  \n",
       "ScreenPorch         0.0     224.0     267.25     268.5  \n",
       "PoolArea            0.0       0.0       0.00     738.0  \n",
       "MiscVal             0.0     500.0     700.00     700.0  \n",
       "MoSold              6.0      12.0      12.00      12.0  \n",
       "YrSold           2008.0    2010.0    2010.00    2010.0  \n",
       "SalePrice      162500.0  394617.0  439085.00  439390.0  "
      ]
     },
     "execution_count": 143,
     "metadata": {},
     "output_type": "execute_result"
    }
   ],
   "source": [
    "a = df.describe(percentiles=[0.01,0.02,0.03,0.05,0.097,0.98,0.99]).T  # T = transpose\n",
    "a = a.iloc[:,3:]\n",
    "a"
   ]
  },
  {
   "cell_type": "markdown",
   "id": "435bce74",
   "metadata": {},
   "source": [
    "#### Assmumptions of Linear Reg\n",
    "<pre>\n",
    "1) No misisng values\n",
    "2) no/min outliers\n",
    "3) linearity\n",
    "4) homoscedasticity\n",
    "5) no autocorrelation\n",
    "6) no multicollinearity\n",
    "7) target variable should be normally dist.\n",
    "8) Residuals should be normally dist."
   ]
  },
  {
   "cell_type": "code",
   "execution_count": 144,
   "id": "30cd7998",
   "metadata": {},
   "outputs": [
    {
     "data": {
      "text/plain": [
       "(1451, 74)"
      ]
     },
     "execution_count": 144,
     "metadata": {},
     "output_type": "execute_result"
    }
   ],
   "source": [
    "df.shape"
   ]
  },
  {
   "cell_type": "code",
   "execution_count": 147,
   "id": "c3fe9c8d",
   "metadata": {},
   "outputs": [],
   "source": [
    "from scipy.stats import shapiro\n",
    "# Ho : data is normally  dist => p>0.05\n",
    "# H1 : data is not normally dist => p<=0.05"
   ]
  },
  {
   "cell_type": "code",
   "execution_count": 149,
   "id": "a281963c",
   "metadata": {},
   "outputs": [
    {
     "name": "stdout",
     "output_type": "stream",
     "text": [
      "0.9070529937744141\n",
      "7.462231032940874e-29\n"
     ]
    }
   ],
   "source": [
    "test_stat,p = shapiro(df['SalePrice'])\n",
    "print(test_stat)\n",
    "print(p)"
   ]
  },
  {
   "cell_type": "code",
   "execution_count": 150,
   "id": "a6c269fa",
   "metadata": {},
   "outputs": [
    {
     "name": "stdout",
     "output_type": "stream",
     "text": [
      "0.9923861622810364\n",
      "8.08912488992064e-07\n"
     ]
    }
   ],
   "source": [
    "test_stat1,p1 = shapiro(np.log(df['SalePrice']))\n",
    "print(test_stat1)\n",
    "print(p1)"
   ]
  },
  {
   "cell_type": "code",
   "execution_count": 151,
   "id": "4dc75268",
   "metadata": {},
   "outputs": [
    {
     "data": {
      "image/png": "[encoded data removed]",
      "text/plain": [
       "<Figure size 1200x400 with 2 Axes>"
      ]
     },
     "metadata": {},
     "output_type": "display_data"
    }
   ],
   "source": [
    "plt.figure(figsize=(12,4))\n",
    "plt.subplot(1,2,1)\n",
    "sns.kdeplot(x=df['SalePrice'])\n",
    "plt.subplot(1,2,2)\n",
    "sns.kdeplot(x=np.log(df['SalePrice']))\n",
    "plt.show()"
   ]
  },
  {
   "cell_type": "code",
   "execution_count": 154,
   "id": "69e45c28",
   "metadata": {},
   "outputs": [
    {
     "name": "stdout",
     "output_type": "stream",
     "text": [
      "7.462231032940874e-29\n",
      "8.08912488992064e-07\n"
     ]
    }
   ],
   "source": [
    "print(p)  # 7.46*10^(-29) = 0.0000000000000000000000000000746 \n",
    "print(p1) # 8.08*10^(-7)  = 0.000000808"
   ]
  },
  {
   "cell_type": "markdown",
   "id": "9238d690",
   "metadata": {},
   "source": [
    "#### Encoding Catgeorical Features"
   ]
  },
  {
   "cell_type": "code",
   "execution_count": 155,
   "id": "fa1026c2",
   "metadata": {},
   "outputs": [
    {
     "data": {
      "text/plain": [
       "Index(['MSZoning', 'LotShape', 'LandContour', 'LotConfig', 'LandSlope',\n",
       "       'Neighborhood', 'Condition1', 'Condition2', 'BldgType', 'HouseStyle',\n",
       "       'RoofStyle', 'RoofMatl', 'Exterior1st', 'Exterior2nd', 'MasVnrType',\n",
       "       'ExterQual', 'ExterCond', 'Foundation', 'BsmtQual', 'BsmtCond',\n",
       "       'BsmtExposure', 'BsmtFinType1', 'BsmtFinType2', 'Heating', 'HeatingQC',\n",
       "       'CentralAir', 'Electrical', 'KitchenQual', 'Functional', 'FireplaceQu',\n",
       "       'GarageType', 'GarageFinish', 'GarageQual', 'GarageCond', 'PavedDrive',\n",
       "       'SaleType', 'SaleCondition'],\n",
       "      dtype='object')"
      ]
     },
     "execution_count": 155,
     "metadata": {},
     "output_type": "execute_result"
    }
   ],
   "source": [
    "cat_cols  = df.dtypes[df.dtypes=='object'].index\n",
    "cat_cols"
   ]
  },
  {
   "cell_type": "code",
   "execution_count": 156,
   "id": "faf8bb6a",
   "metadata": {},
   "outputs": [
    {
     "name": "stdout",
     "output_type": "stream",
     "text": [
      "(1451, 245)\n",
      "Index(['MSSubClass', 'LotFrontage', 'LotArea', 'OverallQual', 'OverallCond',\n",
      "       'YearBuilt', 'YearRemodAdd', 'MasVnrArea', 'BsmtFinSF1', 'BsmtFinSF2',\n",
      "       ...\n",
      "       'SaleType_ConLI', 'SaleType_ConLw', 'SaleType_New', 'SaleType_Oth',\n",
      "       'SaleType_WD', 'SaleCondition_AdjLand', 'SaleCondition_Alloca',\n",
      "       'SaleCondition_Family', 'SaleCondition_Normal',\n",
      "       'SaleCondition_Partial'],\n",
      "      dtype='object', length=245)\n"
     ]
    }
   ],
   "source": [
    "df_dum = pd.get_dummies(data=df,columns= cat_cols,drop_first=True)\n",
    "# NeighborHood, 'Exterior1st', 'Exterior2nd',\n",
    "print(df_dum.shape)\n",
    "print(df_dum.columns)"
   ]
  },
  {
   "cell_type": "markdown",
   "id": "777b9e4c",
   "metadata": {},
   "source": [
    "#### Select x and y"
   ]
  },
  {
   "cell_type": "code",
   "execution_count": 161,
   "id": "1581a70b",
   "metadata": {},
   "outputs": [
    {
     "name": "stdout",
     "output_type": "stream",
     "text": [
      "(1451, 244)\n",
      "(1451,)\n"
     ]
    }
   ],
   "source": [
    "x = df_dum.drop('SalePrice',axis=1)\n",
    "y = np.log(df_dum['SalePrice'])\n",
    "print(x.shape)\n",
    "print(y.shape)"
   ]
  },
  {
   "cell_type": "code",
   "execution_count": 162,
   "id": "faf26b61",
   "metadata": {},
   "outputs": [],
   "source": [
    "from sklearn.model_selection import train_test_split"
   ]
  },
  {
   "cell_type": "code",
   "execution_count": 163,
   "id": "7f9ee54e",
   "metadata": {},
   "outputs": [
    {
     "name": "stdout",
     "output_type": "stream",
     "text": [
      "(1015, 244)\n",
      "(436, 244)\n",
      "(1015,)\n",
      "(436,)\n"
     ]
    }
   ],
   "source": [
    "x_train,x_test,y_train,y_test = train_test_split(x,y,test_size=0.30,random_state=42)\n",
    "print(x_train.shape)\n",
    "print(x_test.shape)\n",
    "print(y_train.shape)\n",
    "print(y_test.shape)"
   ]
  },
  {
   "cell_type": "code",
   "execution_count": 164,
   "id": "dcf35b22",
   "metadata": {},
   "outputs": [],
   "source": [
    "from sklearn.metrics import *"
   ]
  },
  {
   "cell_type": "code",
   "execution_count": 165,
   "id": "cb96ae13",
   "metadata": {},
   "outputs": [],
   "source": [
    "def eval_model(ytest,ypred):\n",
    "    mae =  mean_absolute_error(ytest,ypred)\n",
    "    mse = mean_squared_error(ytest,ypred)\n",
    "    rmse = np.sqrt(mse)\n",
    "    r2 = r2_score(ytest,ypred)\n",
    "    print('MAE',mae)\n",
    "    print('MSE',mse,'RMSE',rmse)\n",
    "    print('R2_Score',r2)"
   ]
  },
  {
   "cell_type": "code",
   "execution_count": 166,
   "id": "884914c5",
   "metadata": {},
   "outputs": [],
   "source": [
    "from sklearn.linear_model import LinearRegression"
   ]
  },
  {
   "cell_type": "code",
   "execution_count": 167,
   "id": "ed185e28",
   "metadata": {},
   "outputs": [
    {
     "data": {
      "text/html": [
       "<style>#sk-container-id-3 {color: black;background-color: white;}#sk-container-id-3 pre{padding: 0;}#sk-container-id-3 div.sk-toggleable {background-color: white;}#sk-container-id-3 label.sk-toggleable__label {cursor: pointer;display: block;width: 100%;margin-bottom: 0;padding: 0.3em;box-sizing: border-box;text-align: center;}#sk-container-id-3 label.sk-toggleable__label-arrow:before {content: \"▸\";float: left;margin-right: 0.25em;color: #696969;}#sk-container-id-3 label.sk-toggleable__label-arrow:hover:before {color: black;}#sk-container-id-3 div.sk-estimator:hover label.sk-toggleable__label-arrow:before {color: black;}#sk-container-id-3 div.sk-toggleable__content {max-height: 0;max-width: 0;overflow: hidden;text-align: left;background-color: #f0f8ff;}#sk-container-id-3 div.sk-toggleable__content pre {margin: 0.2em;color: black;border-radius: 0.25em;background-color: #f0f8ff;}#sk-container-id-3 input.sk-toggleable__control:checked~div.sk-toggleable__content {max-height: 200px;max-width: 100%;overflow: auto;}#sk-container-id-3 input.sk-toggleable__control:checked~label.sk-toggleable__label-arrow:before {content: \"▾\";}#sk-container-id-3 div.sk-estimator input.sk-toggleable__control:checked~label.sk-toggleable__label {background-color: #d4ebff;}#sk-container-id-3 div.sk-label input.sk-toggleable__control:checked~label.sk-toggleable__label {background-color: #d4ebff;}#sk-container-id-3 input.sk-hidden--visually {border: 0;clip: rect(1px 1px 1px 1px);clip: rect(1px, 1px, 1px, 1px);height: 1px;margin: -1px;overflow: hidden;padding: 0;position: absolute;width: 1px;}#sk-container-id-3 div.sk-estimator {font-family: monospace;background-color: #f0f8ff;border: 1px dotted black;border-radius: 0.25em;box-sizing: border-box;margin-bottom: 0.5em;}#sk-container-id-3 div.sk-estimator:hover {background-color: #d4ebff;}#sk-container-id-3 div.sk-parallel-item::after {content: \"\";width: 100%;border-bottom: 1px solid gray;flex-grow: 1;}#sk-container-id-3 div.sk-label:hover label.sk-toggleable__label {background-color: #d4ebff;}#sk-container-id-3 div.sk-serial::before {content: \"\";position: absolute;border-left: 1px solid gray;box-sizing: border-box;top: 0;bottom: 0;left: 50%;z-index: 0;}#sk-container-id-3 div.sk-serial {display: flex;flex-direction: column;align-items: center;background-color: white;padding-right: 0.2em;padding-left: 0.2em;position: relative;}#sk-container-id-3 div.sk-item {position: relative;z-index: 1;}#sk-container-id-3 div.sk-parallel {display: flex;align-items: stretch;justify-content: center;background-color: white;position: relative;}#sk-container-id-3 div.sk-item::before, #sk-container-id-3 div.sk-parallel-item::before {content: \"\";position: absolute;border-left: 1px solid gray;box-sizing: border-box;top: 0;bottom: 0;left: 50%;z-index: -1;}#sk-container-id-3 div.sk-parallel-item {display: flex;flex-direction: column;z-index: 1;position: relative;background-color: white;}#sk-container-id-3 div.sk-parallel-item:first-child::after {align-self: flex-end;width: 50%;}#sk-container-id-3 div.sk-parallel-item:last-child::after {align-self: flex-start;width: 50%;}#sk-container-id-3 div.sk-parallel-item:only-child::after {width: 0;}#sk-container-id-3 div.sk-dashed-wrapped {border: 1px dashed gray;margin: 0 0.4em 0.5em 0.4em;box-sizing: border-box;padding-bottom: 0.4em;background-color: white;}#sk-container-id-3 div.sk-label label {font-family: monospace;font-weight: bold;display: inline-block;line-height: 1.2em;}#sk-container-id-3 div.sk-label-container {text-align: center;}#sk-container-id-3 div.sk-container {/* jupyter's `normalize.less` sets `[hidden] { display: none; }` but bootstrap.min.css set `[hidden] { display: none !important; }` so we also need the `!important` here to be able to override the default hidden behavior on the sphinx rendered scikit-learn.org. See: https://github.com/scikit-learn/scikit-learn/issues/21755 */display: inline-block !important;position: relative;}#sk-container-id-3 div.sk-text-repr-fallback {display: none;}</style><div id=\"sk-container-id-3\" class=\"sk-top-container\"><div class=\"sk-text-repr-fallback\"><pre>LinearRegression()</pre><b>In a Jupyter environment, please rerun this cell to show the HTML representation or trust the notebook. <br />On GitHub, the HTML representation is unable to render, please try loading this page with nbviewer.org.</b></div><div class=\"sk-container\" hidden><div class=\"sk-item\"><div class=\"sk-estimator sk-toggleable\"><input class=\"sk-toggleable__control sk-hidden--visually\" id=\"sk-estimator-id-3\" type=\"checkbox\" checked><label for=\"sk-estimator-id-3\" class=\"sk-toggleable__label sk-toggleable__label-arrow\">LinearRegression</label><div class=\"sk-toggleable__content\"><pre>LinearRegression()</pre></div></div></div></div></div>"
      ],
      "text/plain": [
       "LinearRegression()"
      ]
     },
     "execution_count": 167,
     "metadata": {},
     "output_type": "execute_result"
    }
   ],
   "source": [
    "lr1 = LinearRegression()\n",
    "lr1.fit(x_train,y_train)"
   ]
  },
  {
   "cell_type": "code",
   "execution_count": 168,
   "id": "ea114de3",
   "metadata": {},
   "outputs": [
    {
     "name": "stdout",
     "output_type": "stream",
     "text": [
      "MAE 0.09020260668064074\n",
      "MSE 0.024524708012173158 RMSE 0.15660366538549841\n",
      "R2_Score 0.8243971011151658\n"
     ]
    }
   ],
   "source": [
    "ypred_lr1 = lr1.predict(x_test)\n",
    "eval_model(y_test,ypred_lr1)"
   ]
  },
  {
   "cell_type": "code",
   "execution_count": 170,
   "id": "2880878a",
   "metadata": {},
   "outputs": [
    {
     "name": "stdout",
     "output_type": "stream",
     "text": [
      "Train Score 0.9554195535086778\n",
      "Test Score 0.8243971011151658\n"
     ]
    }
   ],
   "source": [
    "print('Train Score',lr1.score(x_train,y_train))\n",
    "print('Test Score',lr1.score(x_test,y_test))"
   ]
  },
  {
   "cell_type": "markdown",
   "id": "d661858c",
   "metadata": {},
   "source": [
    "#### Inference\n",
    "Model is highly overfit"
   ]
  },
  {
   "cell_type": "markdown",
   "id": "e90b0398",
   "metadata": {},
   "source": [
    "### PCA"
   ]
  },
  {
   "cell_type": "code",
   "execution_count": 175,
   "id": "05f36d38",
   "metadata": {},
   "outputs": [
    {
     "name": "stdout",
     "output_type": "stream",
     "text": [
      "(1015, 244)\n",
      "(436, 244)\n"
     ]
    }
   ],
   "source": [
    "print(x_train.shape)\n",
    "print(x_test.shape)"
   ]
  },
  {
   "cell_type": "code",
   "execution_count": 177,
   "id": "763482ea",
   "metadata": {},
   "outputs": [],
   "source": [
    "from sklearn.decomposition import PCA\n",
    "from sklearn.preprocessing import StandardScaler"
   ]
  },
  {
   "cell_type": "code",
   "execution_count": 178,
   "id": "69c35b0f",
   "metadata": {},
   "outputs": [
    {
     "name": "stdout",
     "output_type": "stream",
     "text": [
      "(1015, 244)\n",
      "(436, 244)\n"
     ]
    }
   ],
   "source": [
    "sc = StandardScaler()\n",
    "\n",
    "x_train_sc  = sc.fit_transform(x_train)\n",
    "x_test_sc  = sc.transform(x_test)\n",
    "print(x_train_sc.shape)\n",
    "print(x_test_sc.shape)"
   ]
  },
  {
   "cell_type": "code",
   "execution_count": 184,
   "id": "a0548233",
   "metadata": {},
   "outputs": [],
   "source": [
    "pca = PCA()\n",
    "pca.fit(x_train_sc)\n",
    "\n",
    "x_train_pcomps = pca.transform(x_train_sc)\n",
    "x_test_pcomps = pca.transform(x_test_sc)"
   ]
  },
  {
   "cell_type": "code",
   "execution_count": 185,
   "id": "26856326",
   "metadata": {},
   "outputs": [
    {
     "name": "stdout",
     "output_type": "stream",
     "text": [
      "(1015, 244)\n",
      "(436, 244)\n"
     ]
    }
   ],
   "source": [
    "print(x_train_pcomps.shape)\n",
    "print(x_test_pcomps.shape)"
   ]
  },
  {
   "cell_type": "markdown",
   "id": "3d1a05a5",
   "metadata": {},
   "source": [
    "#### Extract Eigen Values and Eigen Vectors"
   ]
  },
  {
   "cell_type": "code",
   "execution_count": 187,
   "id": "9c2aef28",
   "metadata": {},
   "outputs": [
    {
     "name": "stdout",
     "output_type": "stream",
     "text": [
      "244\n"
     ]
    },
    {
     "data": {
      "text/html": [
       "<div>\n",
       "<style scoped>\n",
       "    .dataframe tbody tr th:only-of-type {\n",
       "        vertical-align: middle;\n",
       "    }\n",
       "\n",
       "    .dataframe tbody tr th {\n",
       "        vertical-align: top;\n",
       "    }\n",
       "\n",
       "    .dataframe thead th {\n",
       "        text-align: right;\n",
       "    }\n",
       "</style>\n",
       "<table border=\"1\" class=\"dataframe\">\n",
       "  <thead>\n",
       "    <tr style=\"text-align: right;\">\n",
       "      <th></th>\n",
       "      <th>Variance(Eig_Val)</th>\n",
       "      <th>EVR</th>\n",
       "    </tr>\n",
       "  </thead>\n",
       "  <tbody>\n",
       "    <tr>\n",
       "      <th>0</th>\n",
       "      <td>17.147368</td>\n",
       "      <td>7.137698</td>\n",
       "    </tr>\n",
       "    <tr>\n",
       "      <th>1</th>\n",
       "      <td>8.323120</td>\n",
       "      <td>3.464550</td>\n",
       "    </tr>\n",
       "    <tr>\n",
       "      <th>2</th>\n",
       "      <td>7.208126</td>\n",
       "      <td>3.000427</td>\n",
       "    </tr>\n",
       "    <tr>\n",
       "      <th>3</th>\n",
       "      <td>5.969532</td>\n",
       "      <td>2.484855</td>\n",
       "    </tr>\n",
       "    <tr>\n",
       "      <th>4</th>\n",
       "      <td>5.667211</td>\n",
       "      <td>2.359011</td>\n",
       "    </tr>\n",
       "  </tbody>\n",
       "</table>\n",
       "</div>"
      ],
      "text/plain": [
       "   Variance(Eig_Val)       EVR\n",
       "0          17.147368  7.137698\n",
       "1           8.323120  3.464550\n",
       "2           7.208126  3.000427\n",
       "3           5.969532  2.484855\n",
       "4           5.667211  2.359011"
      ]
     },
     "execution_count": 187,
     "metadata": {},
     "output_type": "execute_result"
    }
   ],
   "source": [
    "eig_val = pca.explained_variance_  # eigen_value\n",
    "print(len(eig_val))\n",
    "eig_df = pd.DataFrame({'Variance(Eig_Val)': eig_val,\n",
    "                      'EVR': (pca.explained_variance_ratio_)*100})\n",
    "\n",
    "# EVR = explained_variance_ratio_\n",
    "eig_df.head()"
   ]
  },
  {
   "cell_type": "code",
   "execution_count": 189,
   "id": "246a99df",
   "metadata": {},
   "outputs": [
    {
     "data": {
      "text/html": [
       "<div>\n",
       "<style scoped>\n",
       "    .dataframe tbody tr th:only-of-type {\n",
       "        vertical-align: middle;\n",
       "    }\n",
       "\n",
       "    .dataframe tbody tr th {\n",
       "        vertical-align: top;\n",
       "    }\n",
       "\n",
       "    .dataframe thead th {\n",
       "        text-align: right;\n",
       "    }\n",
       "</style>\n",
       "<table border=\"1\" class=\"dataframe\">\n",
       "  <thead>\n",
       "    <tr style=\"text-align: right;\">\n",
       "      <th></th>\n",
       "      <th>Variance(Eig_Val)</th>\n",
       "      <th>EVR</th>\n",
       "      <th>CumSum_EVR</th>\n",
       "    </tr>\n",
       "  </thead>\n",
       "  <tbody>\n",
       "    <tr>\n",
       "      <th>0</th>\n",
       "      <td>17.147368</td>\n",
       "      <td>7.137698</td>\n",
       "      <td>7.137698</td>\n",
       "    </tr>\n",
       "    <tr>\n",
       "      <th>1</th>\n",
       "      <td>8.323120</td>\n",
       "      <td>3.464550</td>\n",
       "      <td>10.602248</td>\n",
       "    </tr>\n",
       "    <tr>\n",
       "      <th>2</th>\n",
       "      <td>7.208126</td>\n",
       "      <td>3.000427</td>\n",
       "      <td>13.602675</td>\n",
       "    </tr>\n",
       "    <tr>\n",
       "      <th>3</th>\n",
       "      <td>5.969532</td>\n",
       "      <td>2.484855</td>\n",
       "      <td>16.087529</td>\n",
       "    </tr>\n",
       "    <tr>\n",
       "      <th>4</th>\n",
       "      <td>5.667211</td>\n",
       "      <td>2.359011</td>\n",
       "      <td>18.446540</td>\n",
       "    </tr>\n",
       "  </tbody>\n",
       "</table>\n",
       "</div>"
      ],
      "text/plain": [
       "   Variance(Eig_Val)       EVR  CumSum_EVR\n",
       "0          17.147368  7.137698    7.137698\n",
       "1           8.323120  3.464550   10.602248\n",
       "2           7.208126  3.000427   13.602675\n",
       "3           5.969532  2.484855   16.087529\n",
       "4           5.667211  2.359011   18.446540"
      ]
     },
     "execution_count": 189,
     "metadata": {},
     "output_type": "execute_result"
    }
   ],
   "source": [
    "eig_df['CumSum_EVR'] = np.cumsum(eig_df['EVR'])\n",
    "eig_df.head()"
   ]
  },
  {
   "cell_type": "code",
   "execution_count": 191,
   "id": "392ddbfe",
   "metadata": {},
   "outputs": [
    {
     "data": {
      "image/png": "[encoded data removed]",
      "text/plain": [
       "<Figure size 640x480 with 1 Axes>"
      ]
     },
     "metadata": {},
     "output_type": "display_data"
    }
   ],
   "source": [
    "plt.plot(list(range(len(eig_df))),eig_df['CumSum_EVR'])\n",
    "plt.title('Scree Plot')\n",
    "plt.xlabel('Num of Components')\n",
    "plt.ylabel('CumSum of Eig_Val_Contribution')\n",
    "plt.show()"
   ]
  },
  {
   "cell_type": "code",
   "execution_count": 192,
   "id": "8481d041",
   "metadata": {},
   "outputs": [
    {
     "data": {
      "text/plain": [
       "Index(['Variance(Eig_Val)', 'EVR', 'CumSum_EVR'], dtype='object')"
      ]
     },
     "execution_count": 192,
     "metadata": {},
     "output_type": "execute_result"
    }
   ],
   "source": [
    "eig_df.columns # 75"
   ]
  },
  {
   "cell_type": "code",
   "execution_count": 196,
   "id": "6f0e33f4",
   "metadata": {},
   "outputs": [
    {
     "data": {
      "text/html": [
       "<div>\n",
       "<style scoped>\n",
       "    .dataframe tbody tr th:only-of-type {\n",
       "        vertical-align: middle;\n",
       "    }\n",
       "\n",
       "    .dataframe tbody tr th {\n",
       "        vertical-align: top;\n",
       "    }\n",
       "\n",
       "    .dataframe thead th {\n",
       "        text-align: right;\n",
       "    }\n",
       "</style>\n",
       "<table border=\"1\" class=\"dataframe\">\n",
       "  <thead>\n",
       "    <tr style=\"text-align: right;\">\n",
       "      <th></th>\n",
       "      <th>Variance(Eig_Val)</th>\n",
       "      <th>EVR</th>\n",
       "      <th>CumSum_EVR</th>\n",
       "    </tr>\n",
       "  </thead>\n",
       "  <tbody>\n",
       "    <tr>\n",
       "      <th>79</th>\n",
       "      <td>1.012007</td>\n",
       "      <td>0.421254</td>\n",
       "      <td>75.368399</td>\n",
       "    </tr>\n",
       "    <tr>\n",
       "      <th>80</th>\n",
       "      <td>1.007875</td>\n",
       "      <td>0.419534</td>\n",
       "      <td>75.787933</td>\n",
       "    </tr>\n",
       "    <tr>\n",
       "      <th>81</th>\n",
       "      <td>0.998638</td>\n",
       "      <td>0.415689</td>\n",
       "      <td>76.203622</td>\n",
       "    </tr>\n",
       "    <tr>\n",
       "      <th>82</th>\n",
       "      <td>0.992764</td>\n",
       "      <td>0.413244</td>\n",
       "      <td>76.616866</td>\n",
       "    </tr>\n",
       "    <tr>\n",
       "      <th>83</th>\n",
       "      <td>0.979820</td>\n",
       "      <td>0.407856</td>\n",
       "      <td>77.024722</td>\n",
       "    </tr>\n",
       "    <tr>\n",
       "      <th>84</th>\n",
       "      <td>0.974099</td>\n",
       "      <td>0.405475</td>\n",
       "      <td>77.430197</td>\n",
       "    </tr>\n",
       "    <tr>\n",
       "      <th>85</th>\n",
       "      <td>0.963252</td>\n",
       "      <td>0.400959</td>\n",
       "      <td>77.831156</td>\n",
       "    </tr>\n",
       "    <tr>\n",
       "      <th>86</th>\n",
       "      <td>0.952151</td>\n",
       "      <td>0.396339</td>\n",
       "      <td>78.227495</td>\n",
       "    </tr>\n",
       "    <tr>\n",
       "      <th>87</th>\n",
       "      <td>0.935621</td>\n",
       "      <td>0.389458</td>\n",
       "      <td>78.616953</td>\n",
       "    </tr>\n",
       "    <tr>\n",
       "      <th>88</th>\n",
       "      <td>0.932129</td>\n",
       "      <td>0.388004</td>\n",
       "      <td>79.004957</td>\n",
       "    </tr>\n",
       "  </tbody>\n",
       "</table>\n",
       "</div>"
      ],
      "text/plain": [
       "    Variance(Eig_Val)       EVR  CumSum_EVR\n",
       "79           1.012007  0.421254   75.368399\n",
       "80           1.007875  0.419534   75.787933\n",
       "81           0.998638  0.415689   76.203622\n",
       "82           0.992764  0.413244   76.616866\n",
       "83           0.979820  0.407856   77.024722\n",
       "84           0.974099  0.405475   77.430197\n",
       "85           0.963252  0.400959   77.831156\n",
       "86           0.952151  0.396339   78.227495\n",
       "87           0.935621  0.389458   78.616953\n",
       "88           0.932129  0.388004   79.004957"
      ]
     },
     "execution_count": 196,
     "metadata": {},
     "output_type": "execute_result"
    }
   ],
   "source": [
    "eig_df[eig_df['CumSum_EVR']>=75].head(10)"
   ]
  },
  {
   "cell_type": "markdown",
   "id": "503f3dfc",
   "metadata": {},
   "source": [
    "#### Inference\n",
    "80 PC have cumulative varaince of 75%. Hence out of 244, we need atleast 80 PCs."
   ]
  },
  {
   "cell_type": "code",
   "execution_count": 199,
   "id": "94bde4b4",
   "metadata": {},
   "outputs": [],
   "source": [
    "pc_cols = ['PC'+str(i) for i in range(1,245)]"
   ]
  },
  {
   "cell_type": "code",
   "execution_count": 206,
   "id": "f40bea8f",
   "metadata": {},
   "outputs": [
    {
     "name": "stdout",
     "output_type": "stream",
     "text": [
      "(1015, 244)\n"
     ]
    }
   ],
   "source": [
    "print(x_train_pcomps.shape)"
   ]
  },
  {
   "cell_type": "code",
   "execution_count": 204,
   "id": "204a8744",
   "metadata": {},
   "outputs": [
    {
     "name": "stdout",
     "output_type": "stream",
     "text": [
      "(1015, 244)\n",
      "(436, 244)\n"
     ]
    }
   ],
   "source": [
    "x_train_pcomps_df = pd.DataFrame(x_train_pcomps,columns = pc_cols)\n",
    "x_test_pcomps_df = pd.DataFrame(x_test_pcomps,columns = pc_cols)\n",
    "print(x_train_pcomps_df.shape)\n",
    "print(x_test_pcomps_df.shape)"
   ]
  },
  {
   "cell_type": "markdown",
   "id": "eb5d0d08",
   "metadata": {},
   "source": [
    "#### Select 80 features from x_train_pcomps and 80 features from x_test_pcomps"
   ]
  },
  {
   "cell_type": "code",
   "execution_count": 208,
   "id": "6a18ae7b",
   "metadata": {},
   "outputs": [
    {
     "name": "stdout",
     "output_type": "stream",
     "text": [
      "(1015, 80)\n",
      "(436, 80)\n"
     ]
    }
   ],
   "source": [
    "x_train_pcomps_df = x_train_pcomps_df.iloc[:,:80]\n",
    "x_test_pcomps_df = x_test_pcomps_df.iloc[:,:80]\n",
    "print(x_train_pcomps_df.shape) # => Independent features for train data\n",
    "print(x_test_pcomps_df.shape)  # => Independent features for test data"
   ]
  },
  {
   "cell_type": "markdown",
   "id": "cc2aeb05",
   "metadata": {},
   "source": [
    "#### Linear Regression after PCA"
   ]
  },
  {
   "cell_type": "code",
   "execution_count": 211,
   "id": "d728a0d5",
   "metadata": {},
   "outputs": [
    {
     "data": {
      "text/html": [
       "<style>#sk-container-id-6 {color: black;background-color: white;}#sk-container-id-6 pre{padding: 0;}#sk-container-id-6 div.sk-toggleable {background-color: white;}#sk-container-id-6 label.sk-toggleable__label {cursor: pointer;display: block;width: 100%;margin-bottom: 0;padding: 0.3em;box-sizing: border-box;text-align: center;}#sk-container-id-6 label.sk-toggleable__label-arrow:before {content: \"▸\";float: left;margin-right: 0.25em;color: #696969;}#sk-container-id-6 label.sk-toggleable__label-arrow:hover:before {color: black;}#sk-container-id-6 div.sk-estimator:hover label.sk-toggleable__label-arrow:before {color: black;}#sk-container-id-6 div.sk-toggleable__content {max-height: 0;max-width: 0;overflow: hidden;text-align: left;background-color: #f0f8ff;}#sk-container-id-6 div.sk-toggleable__content pre {margin: 0.2em;color: black;border-radius: 0.25em;background-color: #f0f8ff;}#sk-container-id-6 input.sk-toggleable__control:checked~div.sk-toggleable__content {max-height: 200px;max-width: 100%;overflow: auto;}#sk-container-id-6 input.sk-toggleable__control:checked~label.sk-toggleable__label-arrow:before {content: \"▾\";}#sk-container-id-6 div.sk-estimator input.sk-toggleable__control:checked~label.sk-toggleable__label {background-color: #d4ebff;}#sk-container-id-6 div.sk-label input.sk-toggleable__control:checked~label.sk-toggleable__label {background-color: #d4ebff;}#sk-container-id-6 input.sk-hidden--visually {border: 0;clip: rect(1px 1px 1px 1px);clip: rect(1px, 1px, 1px, 1px);height: 1px;margin: -1px;overflow: hidden;padding: 0;position: absolute;width: 1px;}#sk-container-id-6 div.sk-estimator {font-family: monospace;background-color: #f0f8ff;border: 1px dotted black;border-radius: 0.25em;box-sizing: border-box;margin-bottom: 0.5em;}#sk-container-id-6 div.sk-estimator:hover {background-color: #d4ebff;}#sk-container-id-6 div.sk-parallel-item::after {content: \"\";width: 100%;border-bottom: 1px solid gray;flex-grow: 1;}#sk-container-id-6 div.sk-label:hover label.sk-toggleable__label {background-color: #d4ebff;}#sk-container-id-6 div.sk-serial::before {content: \"\";position: absolute;border-left: 1px solid gray;box-sizing: border-box;top: 0;bottom: 0;left: 50%;z-index: 0;}#sk-container-id-6 div.sk-serial {display: flex;flex-direction: column;align-items: center;background-color: white;padding-right: 0.2em;padding-left: 0.2em;position: relative;}#sk-container-id-6 div.sk-item {position: relative;z-index: 1;}#sk-container-id-6 div.sk-parallel {display: flex;align-items: stretch;justify-content: center;background-color: white;position: relative;}#sk-container-id-6 div.sk-item::before, #sk-container-id-6 div.sk-parallel-item::before {content: \"\";position: absolute;border-left: 1px solid gray;box-sizing: border-box;top: 0;bottom: 0;left: 50%;z-index: -1;}#sk-container-id-6 div.sk-parallel-item {display: flex;flex-direction: column;z-index: 1;position: relative;background-color: white;}#sk-container-id-6 div.sk-parallel-item:first-child::after {align-self: flex-end;width: 50%;}#sk-container-id-6 div.sk-parallel-item:last-child::after {align-self: flex-start;width: 50%;}#sk-container-id-6 div.sk-parallel-item:only-child::after {width: 0;}#sk-container-id-6 div.sk-dashed-wrapped {border: 1px dashed gray;margin: 0 0.4em 0.5em 0.4em;box-sizing: border-box;padding-bottom: 0.4em;background-color: white;}#sk-container-id-6 div.sk-label label {font-family: monospace;font-weight: bold;display: inline-block;line-height: 1.2em;}#sk-container-id-6 div.sk-label-container {text-align: center;}#sk-container-id-6 div.sk-container {/* jupyter's `normalize.less` sets `[hidden] { display: none; }` but bootstrap.min.css set `[hidden] { display: none !important; }` so we also need the `!important` here to be able to override the default hidden behavior on the sphinx rendered scikit-learn.org. See: https://github.com/scikit-learn/scikit-learn/issues/21755 */display: inline-block !important;position: relative;}#sk-container-id-6 div.sk-text-repr-fallback {display: none;}</style><div id=\"sk-container-id-6\" class=\"sk-top-container\"><div class=\"sk-text-repr-fallback\"><pre>LinearRegression()</pre><b>In a Jupyter environment, please rerun this cell to show the HTML representation or trust the notebook. <br />On GitHub, the HTML representation is unable to render, please try loading this page with nbviewer.org.</b></div><div class=\"sk-container\" hidden><div class=\"sk-item\"><div class=\"sk-estimator sk-toggleable\"><input class=\"sk-toggleable__control sk-hidden--visually\" id=\"sk-estimator-id-6\" type=\"checkbox\" checked><label for=\"sk-estimator-id-6\" class=\"sk-toggleable__label sk-toggleable__label-arrow\">LinearRegression</label><div class=\"sk-toggleable__content\"><pre>LinearRegression()</pre></div></div></div></div></div>"
      ],
      "text/plain": [
       "LinearRegression()"
      ]
     },
     "execution_count": 211,
     "metadata": {},
     "output_type": "execute_result"
    }
   ],
   "source": [
    "lr2 = LinearRegression()\n",
    "lr2.fit(x_train_pcomps_df,y_train)"
   ]
  },
  {
   "cell_type": "code",
   "execution_count": 213,
   "id": "1b1112b4",
   "metadata": {},
   "outputs": [
    {
     "name": "stdout",
     "output_type": "stream",
     "text": [
      "MAE 0.09322122236269599\n",
      "MSE 0.017651000687147648 RMSE 0.13285706863824615\n",
      "R2_Score 0.8736145242853527\n"
     ]
    }
   ],
   "source": [
    "ypred_lr2 = lr2.predict(x_test_pcomps_df)\n",
    "eval_model(y_test,ypred_lr2)"
   ]
  },
  {
   "cell_type": "code",
   "execution_count": 214,
   "id": "c0b14c2c",
   "metadata": {},
   "outputs": [
    {
     "name": "stdout",
     "output_type": "stream",
     "text": [
      "Train Score 0.9004585105278875\n",
      "Test Score 0.8736145242853527\n"
     ]
    }
   ],
   "source": [
    "print('Train Score', lr2.score(x_train_pcomps_df,y_train))\n",
    "print('Test Score', lr2.score(x_test_pcomps_df,y_test))"
   ]
  },
  {
   "cell_type": "code",
   "execution_count": 215,
   "id": "8dbf40d8",
   "metadata": {},
   "outputs": [
    {
     "name": "stdout",
     "output_type": "stream",
     "text": [
      "Train Score 0.9554195535086778\n",
      "Test Score 0.8243971011151658\n"
     ]
    }
   ],
   "source": [
    "print('Train Score',lr1.score(x_train,y_train))\n",
    "print('Test Score',lr1.score(x_test,y_test))"
   ]
  },
  {
   "cell_type": "code",
   "execution_count": 216,
   "id": "1da3de61",
   "metadata": {},
   "outputs": [],
   "source": [
    "#### PCA - Cons\n",
    "# 1) Overfitting reduces.\n",
    "# 2) Time minimise complexity."
   ]
  },
  {
   "cell_type": "markdown",
   "id": "ae403be0",
   "metadata": {},
   "source": [
    "#### Loadings Matrix"
   ]
  },
  {
   "cell_type": "code",
   "execution_count": 219,
   "id": "7e4e5dd8",
   "metadata": {},
   "outputs": [
    {
     "name": "stdout",
     "output_type": "stream",
     "text": [
      "(244, 244)\n"
     ]
    }
   ],
   "source": [
    "eig_vec = pca.components_\n",
    "print(eig_vec.shape)"
   ]
  },
  {
   "cell_type": "code",
   "execution_count": 221,
   "id": "be98c1af",
   "metadata": {},
   "outputs": [
    {
     "data": {
      "text/html": [
       "<div>\n",
       "<style scoped>\n",
       "    .dataframe tbody tr th:only-of-type {\n",
       "        vertical-align: middle;\n",
       "    }\n",
       "\n",
       "    .dataframe tbody tr th {\n",
       "        vertical-align: top;\n",
       "    }\n",
       "\n",
       "    .dataframe thead th {\n",
       "        text-align: right;\n",
       "    }\n",
       "</style>\n",
       "<table border=\"1\" class=\"dataframe\">\n",
       "  <thead>\n",
       "    <tr style=\"text-align: right;\">\n",
       "      <th></th>\n",
       "      <th>PC1</th>\n",
       "      <th>PC2</th>\n",
       "      <th>PC3</th>\n",
       "      <th>PC4</th>\n",
       "      <th>PC5</th>\n",
       "      <th>PC6</th>\n",
       "      <th>PC7</th>\n",
       "      <th>PC8</th>\n",
       "      <th>PC9</th>\n",
       "      <th>PC10</th>\n",
       "      <th>...</th>\n",
       "      <th>PC235</th>\n",
       "      <th>PC236</th>\n",
       "      <th>PC237</th>\n",
       "      <th>PC238</th>\n",
       "      <th>PC239</th>\n",
       "      <th>PC240</th>\n",
       "      <th>PC241</th>\n",
       "      <th>PC242</th>\n",
       "      <th>PC243</th>\n",
       "      <th>PC244</th>\n",
       "    </tr>\n",
       "  </thead>\n",
       "  <tbody>\n",
       "    <tr>\n",
       "      <th>MSSubClass</th>\n",
       "      <td>0.031145</td>\n",
       "      <td>0.300481</td>\n",
       "      <td>-0.150057</td>\n",
       "      <td>0.002624</td>\n",
       "      <td>-0.071980</td>\n",
       "      <td>-0.454253</td>\n",
       "      <td>0.347288</td>\n",
       "      <td>0.370786</td>\n",
       "      <td>0.099948</td>\n",
       "      <td>-0.024697</td>\n",
       "      <td>...</td>\n",
       "      <td>-0.000000e+00</td>\n",
       "      <td>0.000000e+00</td>\n",
       "      <td>0.000000e+00</td>\n",
       "      <td>-0.000000e+00</td>\n",
       "      <td>-0.000000e+00</td>\n",
       "      <td>0.000000e+00</td>\n",
       "      <td>-0.000000e+00</td>\n",
       "      <td>0.000000e+00</td>\n",
       "      <td>-0.000000e+00</td>\n",
       "      <td>-0.000000e+00</td>\n",
       "    </tr>\n",
       "    <tr>\n",
       "      <th>LotFrontage</th>\n",
       "      <td>-0.269069</td>\n",
       "      <td>-0.168462</td>\n",
       "      <td>0.186441</td>\n",
       "      <td>0.331338</td>\n",
       "      <td>0.122079</td>\n",
       "      <td>0.231109</td>\n",
       "      <td>-0.314080</td>\n",
       "      <td>-0.098992</td>\n",
       "      <td>0.003800</td>\n",
       "      <td>0.033805</td>\n",
       "      <td>...</td>\n",
       "      <td>4.417116e-32</td>\n",
       "      <td>-7.384366e-33</td>\n",
       "      <td>1.540098e-32</td>\n",
       "      <td>-3.640918e-32</td>\n",
       "      <td>2.198864e-32</td>\n",
       "      <td>4.176135e-33</td>\n",
       "      <td>9.278318e-33</td>\n",
       "      <td>-2.398398e-32</td>\n",
       "      <td>-6.516652e-32</td>\n",
       "      <td>-8.347105e-33</td>\n",
       "    </tr>\n",
       "    <tr>\n",
       "      <th>LotArea</th>\n",
       "      <td>-0.253855</td>\n",
       "      <td>-0.314094</td>\n",
       "      <td>0.239183</td>\n",
       "      <td>0.463795</td>\n",
       "      <td>0.214087</td>\n",
       "      <td>0.053187</td>\n",
       "      <td>0.024780</td>\n",
       "      <td>-0.254392</td>\n",
       "      <td>-0.047337</td>\n",
       "      <td>0.114603</td>\n",
       "      <td>...</td>\n",
       "      <td>8.969495e-34</td>\n",
       "      <td>1.708948e-33</td>\n",
       "      <td>8.693184e-33</td>\n",
       "      <td>2.263396e-32</td>\n",
       "      <td>2.773222e-32</td>\n",
       "      <td>2.214993e-33</td>\n",
       "      <td>3.413420e-33</td>\n",
       "      <td>-1.858154e-33</td>\n",
       "      <td>9.778671e-33</td>\n",
       "      <td>-1.907873e-33</td>\n",
       "    </tr>\n",
       "    <tr>\n",
       "      <th>OverallQual</th>\n",
       "      <td>-0.794936</td>\n",
       "      <td>0.077131</td>\n",
       "      <td>-0.070774</td>\n",
       "      <td>0.196790</td>\n",
       "      <td>-0.001456</td>\n",
       "      <td>0.033436</td>\n",
       "      <td>0.075938</td>\n",
       "      <td>0.112048</td>\n",
       "      <td>-0.007931</td>\n",
       "      <td>-0.139913</td>\n",
       "      <td>...</td>\n",
       "      <td>6.329541e-33</td>\n",
       "      <td>4.470766e-32</td>\n",
       "      <td>3.108662e-32</td>\n",
       "      <td>4.469771e-33</td>\n",
       "      <td>-1.763991e-32</td>\n",
       "      <td>-1.728415e-32</td>\n",
       "      <td>2.225145e-32</td>\n",
       "      <td>-6.045079e-33</td>\n",
       "      <td>-6.085893e-33</td>\n",
       "      <td>-3.786313e-32</td>\n",
       "    </tr>\n",
       "    <tr>\n",
       "      <th>OverallCond</th>\n",
       "      <td>0.214932</td>\n",
       "      <td>-0.221778</td>\n",
       "      <td>-0.163624</td>\n",
       "      <td>0.076855</td>\n",
       "      <td>-0.034556</td>\n",
       "      <td>-0.116392</td>\n",
       "      <td>0.049332</td>\n",
       "      <td>-0.110052</td>\n",
       "      <td>-0.177199</td>\n",
       "      <td>-0.114903</td>\n",
       "      <td>...</td>\n",
       "      <td>4.683716e-32</td>\n",
       "      <td>5.581626e-33</td>\n",
       "      <td>-2.391054e-32</td>\n",
       "      <td>-8.893436e-33</td>\n",
       "      <td>-2.178022e-32</td>\n",
       "      <td>-2.509131e-32</td>\n",
       "      <td>-1.842526e-32</td>\n",
       "      <td>6.404174e-33</td>\n",
       "      <td>-1.963832e-32</td>\n",
       "      <td>-4.549655e-34</td>\n",
       "    </tr>\n",
       "    <tr>\n",
       "      <th>...</th>\n",
       "      <td>...</td>\n",
       "      <td>...</td>\n",
       "      <td>...</td>\n",
       "      <td>...</td>\n",
       "      <td>...</td>\n",
       "      <td>...</td>\n",
       "      <td>...</td>\n",
       "      <td>...</td>\n",
       "      <td>...</td>\n",
       "      <td>...</td>\n",
       "      <td>...</td>\n",
       "      <td>...</td>\n",
       "      <td>...</td>\n",
       "      <td>...</td>\n",
       "      <td>...</td>\n",
       "      <td>...</td>\n",
       "      <td>...</td>\n",
       "      <td>...</td>\n",
       "      <td>...</td>\n",
       "      <td>...</td>\n",
       "      <td>...</td>\n",
       "    </tr>\n",
       "    <tr>\n",
       "      <th>SaleCondition_AdjLand</th>\n",
       "      <td>0.099950</td>\n",
       "      <td>0.128896</td>\n",
       "      <td>0.080768</td>\n",
       "      <td>0.000036</td>\n",
       "      <td>0.169677</td>\n",
       "      <td>-0.035641</td>\n",
       "      <td>-0.034809</td>\n",
       "      <td>0.008385</td>\n",
       "      <td>0.017142</td>\n",
       "      <td>0.068101</td>\n",
       "      <td>...</td>\n",
       "      <td>9.010954e-33</td>\n",
       "      <td>5.706133e-34</td>\n",
       "      <td>-7.184584e-33</td>\n",
       "      <td>9.579347e-33</td>\n",
       "      <td>6.801085e-33</td>\n",
       "      <td>1.606211e-33</td>\n",
       "      <td>-2.766636e-32</td>\n",
       "      <td>-2.148885e-32</td>\n",
       "      <td>1.969700e-33</td>\n",
       "      <td>-2.926952e-33</td>\n",
       "    </tr>\n",
       "    <tr>\n",
       "      <th>SaleCondition_Alloca</th>\n",
       "      <td>0.044369</td>\n",
       "      <td>0.084415</td>\n",
       "      <td>0.251090</td>\n",
       "      <td>0.072768</td>\n",
       "      <td>-0.018135</td>\n",
       "      <td>-0.101217</td>\n",
       "      <td>0.039191</td>\n",
       "      <td>0.025803</td>\n",
       "      <td>0.027456</td>\n",
       "      <td>0.098565</td>\n",
       "      <td>...</td>\n",
       "      <td>1.873317e-33</td>\n",
       "      <td>1.251919e-32</td>\n",
       "      <td>-1.363224e-32</td>\n",
       "      <td>-1.759078e-32</td>\n",
       "      <td>1.046166e-32</td>\n",
       "      <td>-2.027704e-32</td>\n",
       "      <td>-5.074948e-33</td>\n",
       "      <td>1.486801e-32</td>\n",
       "      <td>-1.845891e-33</td>\n",
       "      <td>3.372241e-33</td>\n",
       "    </tr>\n",
       "    <tr>\n",
       "      <th>SaleCondition_Family</th>\n",
       "      <td>0.030811</td>\n",
       "      <td>-0.029271</td>\n",
       "      <td>-0.030048</td>\n",
       "      <td>0.029536</td>\n",
       "      <td>-0.040709</td>\n",
       "      <td>0.040095</td>\n",
       "      <td>-0.009181</td>\n",
       "      <td>0.058116</td>\n",
       "      <td>-0.012651</td>\n",
       "      <td>0.066193</td>\n",
       "      <td>...</td>\n",
       "      <td>2.475425e-32</td>\n",
       "      <td>-1.072865e-32</td>\n",
       "      <td>-1.037635e-32</td>\n",
       "      <td>-3.382781e-32</td>\n",
       "      <td>1.949558e-32</td>\n",
       "      <td>-1.038842e-32</td>\n",
       "      <td>6.915957e-33</td>\n",
       "      <td>5.521059e-34</td>\n",
       "      <td>1.690864e-32</td>\n",
       "      <td>-9.056322e-33</td>\n",
       "    </tr>\n",
       "    <tr>\n",
       "      <th>SaleCondition_Normal</th>\n",
       "      <td>0.218523</td>\n",
       "      <td>-0.212738</td>\n",
       "      <td>-0.045475</td>\n",
       "      <td>-0.005049</td>\n",
       "      <td>-0.049083</td>\n",
       "      <td>-0.326228</td>\n",
       "      <td>-0.032038</td>\n",
       "      <td>-0.253943</td>\n",
       "      <td>-0.005458</td>\n",
       "      <td>-0.447057</td>\n",
       "      <td>...</td>\n",
       "      <td>6.968207e-33</td>\n",
       "      <td>1.133525e-32</td>\n",
       "      <td>2.221411e-32</td>\n",
       "      <td>-2.456070e-32</td>\n",
       "      <td>4.402876e-33</td>\n",
       "      <td>5.587614e-33</td>\n",
       "      <td>2.197685e-33</td>\n",
       "      <td>7.253076e-33</td>\n",
       "      <td>1.772579e-33</td>\n",
       "      <td>-1.624938e-32</td>\n",
       "    </tr>\n",
       "    <tr>\n",
       "      <th>SaleCondition_Partial</th>\n",
       "      <td>-0.439529</td>\n",
       "      <td>0.273246</td>\n",
       "      <td>0.001540</td>\n",
       "      <td>-0.052575</td>\n",
       "      <td>0.010149</td>\n",
       "      <td>0.392096</td>\n",
       "      <td>0.053300</td>\n",
       "      <td>0.281177</td>\n",
       "      <td>-0.084483</td>\n",
       "      <td>0.387116</td>\n",
       "      <td>...</td>\n",
       "      <td>-7.256925e-32</td>\n",
       "      <td>-2.691958e-32</td>\n",
       "      <td>1.511574e-31</td>\n",
       "      <td>4.155907e-32</td>\n",
       "      <td>-1.678043e-31</td>\n",
       "      <td>1.337417e-31</td>\n",
       "      <td>4.533214e-32</td>\n",
       "      <td>9.788574e-32</td>\n",
       "      <td>-1.769689e-31</td>\n",
       "      <td>-6.072631e-33</td>\n",
       "    </tr>\n",
       "  </tbody>\n",
       "</table>\n",
       "<p>244 rows × 244 columns</p>\n",
       "</div>"
      ],
      "text/plain": [
       "                            PC1       PC2       PC3       PC4       PC5  \\\n",
       "MSSubClass             0.031145  0.300481 -0.150057  0.002624 -0.071980   \n",
       "LotFrontage           -0.269069 -0.168462  0.186441  0.331338  0.122079   \n",
       "LotArea               -0.253855 -0.314094  0.239183  0.463795  0.214087   \n",
       "OverallQual           -0.794936  0.077131 -0.070774  0.196790 -0.001456   \n",
       "OverallCond            0.214932 -0.221778 -0.163624  0.076855 -0.034556   \n",
       "...                         ...       ...       ...       ...       ...   \n",
       "SaleCondition_AdjLand  0.099950  0.128896  0.080768  0.000036  0.169677   \n",
       "SaleCondition_Alloca   0.044369  0.084415  0.251090  0.072768 -0.018135   \n",
       "SaleCondition_Family   0.030811 -0.029271 -0.030048  0.029536 -0.040709   \n",
       "SaleCondition_Normal   0.218523 -0.212738 -0.045475 -0.005049 -0.049083   \n",
       "SaleCondition_Partial -0.439529  0.273246  0.001540 -0.052575  0.010149   \n",
       "\n",
       "                            PC6       PC7       PC8       PC9      PC10  ...  \\\n",
       "MSSubClass            -0.454253  0.347288  0.370786  0.099948 -0.024697  ...   \n",
       "LotFrontage            0.231109 -0.314080 -0.098992  0.003800  0.033805  ...   \n",
       "LotArea                0.053187  0.024780 -0.254392 -0.047337  0.114603  ...   \n",
       "OverallQual            0.033436  0.075938  0.112048 -0.007931 -0.139913  ...   \n",
       "OverallCond           -0.116392  0.049332 -0.110052 -0.177199 -0.114903  ...   \n",
       "...                         ...       ...       ...       ...       ...  ...   \n",
       "SaleCondition_AdjLand -0.035641 -0.034809  0.008385  0.017142  0.068101  ...   \n",
       "SaleCondition_Alloca  -0.101217  0.039191  0.025803  0.027456  0.098565  ...   \n",
       "SaleCondition_Family   0.040095 -0.009181  0.058116 -0.012651  0.066193  ...   \n",
       "SaleCondition_Normal  -0.326228 -0.032038 -0.253943 -0.005458 -0.447057  ...   \n",
       "SaleCondition_Partial  0.392096  0.053300  0.281177 -0.084483  0.387116  ...   \n",
       "\n",
       "                              PC235         PC236         PC237         PC238  \\\n",
       "MSSubClass            -0.000000e+00  0.000000e+00  0.000000e+00 -0.000000e+00   \n",
       "LotFrontage            4.417116e-32 -7.384366e-33  1.540098e-32 -3.640918e-32   \n",
       "LotArea                8.969495e-34  1.708948e-33  8.693184e-33  2.263396e-32   \n",
       "OverallQual            6.329541e-33  4.470766e-32  3.108662e-32  4.469771e-33   \n",
       "OverallCond            4.683716e-32  5.581626e-33 -2.391054e-32 -8.893436e-33   \n",
       "...                             ...           ...           ...           ...   \n",
       "SaleCondition_AdjLand  9.010954e-33  5.706133e-34 -7.184584e-33  9.579347e-33   \n",
       "SaleCondition_Alloca   1.873317e-33  1.251919e-32 -1.363224e-32 -1.759078e-32   \n",
       "SaleCondition_Family   2.475425e-32 -1.072865e-32 -1.037635e-32 -3.382781e-32   \n",
       "SaleCondition_Normal   6.968207e-33  1.133525e-32  2.221411e-32 -2.456070e-32   \n",
       "SaleCondition_Partial -7.256925e-32 -2.691958e-32  1.511574e-31  4.155907e-32   \n",
       "\n",
       "                              PC239         PC240         PC241         PC242  \\\n",
       "MSSubClass            -0.000000e+00  0.000000e+00 -0.000000e+00  0.000000e+00   \n",
       "LotFrontage            2.198864e-32  4.176135e-33  9.278318e-33 -2.398398e-32   \n",
       "LotArea                2.773222e-32  2.214993e-33  3.413420e-33 -1.858154e-33   \n",
       "OverallQual           -1.763991e-32 -1.728415e-32  2.225145e-32 -6.045079e-33   \n",
       "OverallCond           -2.178022e-32 -2.509131e-32 -1.842526e-32  6.404174e-33   \n",
       "...                             ...           ...           ...           ...   \n",
       "SaleCondition_AdjLand  6.801085e-33  1.606211e-33 -2.766636e-32 -2.148885e-32   \n",
       "SaleCondition_Alloca   1.046166e-32 -2.027704e-32 -5.074948e-33  1.486801e-32   \n",
       "SaleCondition_Family   1.949558e-32 -1.038842e-32  6.915957e-33  5.521059e-34   \n",
       "SaleCondition_Normal   4.402876e-33  5.587614e-33  2.197685e-33  7.253076e-33   \n",
       "SaleCondition_Partial -1.678043e-31  1.337417e-31  4.533214e-32  9.788574e-32   \n",
       "\n",
       "                              PC243         PC244  \n",
       "MSSubClass            -0.000000e+00 -0.000000e+00  \n",
       "LotFrontage           -6.516652e-32 -8.347105e-33  \n",
       "LotArea                9.778671e-33 -1.907873e-33  \n",
       "OverallQual           -6.085893e-33 -3.786313e-32  \n",
       "OverallCond           -1.963832e-32 -4.549655e-34  \n",
       "...                             ...           ...  \n",
       "SaleCondition_AdjLand  1.969700e-33 -2.926952e-33  \n",
       "SaleCondition_Alloca  -1.845891e-33  3.372241e-33  \n",
       "SaleCondition_Family   1.690864e-32 -9.056322e-33  \n",
       "SaleCondition_Normal   1.772579e-33 -1.624938e-32  \n",
       "SaleCondition_Partial -1.769689e-31 -6.072631e-33  \n",
       "\n",
       "[244 rows x 244 columns]"
      ]
     },
     "execution_count": 221,
     "metadata": {},
     "output_type": "execute_result"
    }
   ],
   "source": [
    "loadings_matrix = pd.DataFrame(eig_vec.T*np.sqrt(eig_val),columns=pc_cols,index=x_train.columns)\n",
    "loadings_matrix"
   ]
  },
  {
   "cell_type": "code",
   "execution_count": 222,
   "id": "0d9a6ac1",
   "metadata": {},
   "outputs": [],
   "source": [
    "### PCA\n",
    "# 1) Eigen Decomposition of Covariance Matrix\n",
    "# 2) SVD"
   ]
  },
  {
   "cell_type": "markdown",
   "id": "5b0b4b22",
   "metadata": {},
   "source": [
    "### PCA using SVD (Singular Value Decomposition)"
   ]
  },
  {
   "cell_type": "code",
   "execution_count": 225,
   "id": "119dc6ab",
   "metadata": {},
   "outputs": [],
   "source": [
    "from scipy.linalg import svd"
   ]
  },
  {
   "cell_type": "markdown",
   "id": "6d83a82c",
   "metadata": {},
   "source": [
    "#### SVD\n",
    "A(n * m) = U(n * n) * sigma(n * m) * VT(m * m)\n",
    "\n",
    "A  => matrix for which we need to compute covariace matrix\n",
    "\n",
    "Covariance = X * XT /(n-1),   where T = transpose"
   ]
  },
  {
   "cell_type": "code",
   "execution_count": null,
   "id": "77f7cbde",
   "metadata": {},
   "outputs": [],
   "source": [
    "# Ex:\n",
    "# A(2*3) = U(2*2) * sigma(2*3) * VT(3*3)"
   ]
  },
  {
   "cell_type": "code",
   "execution_count": 227,
   "id": "f4de6671",
   "metadata": {},
   "outputs": [
    {
     "name": "stdout",
     "output_type": "stream",
     "text": [
      "[[-0.3863177  -0.92236578]\n",
      " [-0.92236578  0.3863177 ]]\n",
      "[9.508032   0.77286964]\n",
      "[[-0.42866713 -0.56630692 -0.7039467 ]\n",
      " [ 0.80596391  0.11238241 -0.58119908]\n",
      " [ 0.40824829 -0.81649658  0.40824829]]\n"
     ]
    }
   ],
   "source": [
    "a = np.array([[1,2,3],[4,5,6]])\n",
    "u, sigma, vt = svd(a)\n",
    "print(u)\n",
    "print(sigma)\n",
    "print(vt)"
   ]
  },
  {
   "cell_type": "code",
   "execution_count": 228,
   "id": "b4ad1889",
   "metadata": {},
   "outputs": [
    {
     "data": {
      "text/plain": [
       "array([[9.508032  , 0.        , 0.        ],\n",
       "       [0.        , 0.77286964, 0.        ]])"
      ]
     },
     "execution_count": 228,
     "metadata": {},
     "output_type": "execute_result"
    }
   ],
   "source": [
    "sigma1 = np.array([[9.508032,0,0],[0,0.77286964,0]])\n",
    "sigma1"
   ]
  },
  {
   "cell_type": "code",
   "execution_count": 230,
   "id": "3212e49b",
   "metadata": {},
   "outputs": [
    {
     "name": "stdout",
     "output_type": "stream",
     "text": [
      "[[1. 2. 3.]\n",
      " [4. 5. 6.]]\n"
     ]
    }
   ],
   "source": [
    "res = np.dot(np.dot(u,sigma1),vt)\n",
    "print(res)"
   ]
  },
  {
   "cell_type": "markdown",
   "id": "0d0ccb0d",
   "metadata": {},
   "source": [
    "<img src=\"pca_using_svd.png\">"
   ]
  },
  {
   "cell_type": "code",
   "execution_count": null,
   "id": "35fa5317",
   "metadata": {},
   "outputs": [],
   "source": []
  }
 ],
 "metadata": {
  "kernelspec": {
   "display_name": "Python 3 (ipykernel)",
   "language": "python",
   "name": "python3"
  },
  "language_info": {
   "codemirror_mode": {
    "name": "ipython",
    "version": 3
   },
   "file_extension": ".py",
   "mimetype": "text/x-python",
   "name": "python",
   "nbconvert_exporter": "python",
   "pygments_lexer": "ipython3",
   "version": "3.9.13"
  }
 },
 "nbformat": 4,
 "nbformat_minor": 5
}
